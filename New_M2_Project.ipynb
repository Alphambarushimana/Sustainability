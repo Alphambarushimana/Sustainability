{
  "nbformat": 4,
  "nbformat_minor": 0,
  "metadata": {
    "colab": {
      "provenance": [],
      "include_colab_link": true
    },
    "kernelspec": {
      "name": "python3",
      "display_name": "Python 3"
    },
    "language_info": {
      "name": "python"
    }
  },
  "cells": [
    {
      "cell_type": "markdown",
      "metadata": {
        "id": "view-in-github",
        "colab_type": "text"
      },
      "source": [
        "<a href=\"https://colab.research.google.com/github/Alphambarushimana/Sustainability/blob/main/New_M2_Project.ipynb\" target=\"_parent\"><img src=\"https://colab.research.google.com/assets/colab-badge.svg\" alt=\"Open In Colab\"/></a>"
      ]
    },
    {
      "cell_type": "markdown",
      "source": [
        "# Install and libraries"
      ],
      "metadata": {
        "id": "0HX1t9j4jgLv"
      }
    },
    {
      "cell_type": "code",
      "execution_count": 43,
      "metadata": {
        "id": "D3b84uWjOtsC"
      },
      "outputs": [],
      "source": [
        "!pip install tweet-preprocessor -q\n",
        "\n",
        "# Installing Gensim and PyLDAvis\n",
        "!pip install -qq -U gensim\n",
        "!pip install -qq pyLDAvis"
      ]
    },
    {
      "cell_type": "code",
      "source": [
        "# explainability (why did the model say it's related to this author)\n",
        "!pip install eli5"
      ],
      "metadata": {
        "colab": {
          "base_uri": "https://localhost:8080/"
        },
        "id": "-dDOnruyPJr_",
        "outputId": "61b795bd-d2f7-47e8-bca4-4e32a0d2b94d"
      },
      "execution_count": 44,
      "outputs": [
        {
          "output_type": "stream",
          "name": "stdout",
          "text": [
            "Looking in indexes: https://pypi.org/simple, https://us-python.pkg.dev/colab-wheels/public/simple/\n",
            "Requirement already satisfied: eli5 in /usr/local/lib/python3.7/dist-packages (0.13.0)\n",
            "Requirement already satisfied: numpy>=1.9.0 in /usr/local/lib/python3.7/dist-packages (from eli5) (1.21.6)\n",
            "Requirement already satisfied: scipy in /usr/local/lib/python3.7/dist-packages (from eli5) (1.7.3)\n",
            "Requirement already satisfied: tabulate>=0.7.7 in /usr/local/lib/python3.7/dist-packages (from eli5) (0.8.10)\n",
            "Requirement already satisfied: graphviz in /usr/local/lib/python3.7/dist-packages (from eli5) (0.10.1)\n",
            "Requirement already satisfied: jinja2>=3.0.0 in /usr/local/lib/python3.7/dist-packages (from eli5) (3.1.2)\n",
            "Requirement already satisfied: six in /usr/local/lib/python3.7/dist-packages (from eli5) (1.15.0)\n",
            "Requirement already satisfied: scikit-learn>=0.20 in /usr/local/lib/python3.7/dist-packages (from eli5) (1.0.2)\n",
            "Requirement already satisfied: attrs>17.1.0 in /usr/local/lib/python3.7/dist-packages (from eli5) (22.1.0)\n",
            "Requirement already satisfied: MarkupSafe>=2.0 in /usr/local/lib/python3.7/dist-packages (from jinja2>=3.0.0->eli5) (2.0.1)\n",
            "Requirement already satisfied: threadpoolctl>=2.0.0 in /usr/local/lib/python3.7/dist-packages (from scikit-learn>=0.20->eli5) (3.1.0)\n",
            "Requirement already satisfied: joblib>=0.11 in /usr/local/lib/python3.7/dist-packages (from scikit-learn>=0.20->eli5) (1.2.0)\n"
          ]
        }
      ]
    },
    {
      "cell_type": "code",
      "source": [
        "!pip install pybliometrics"
      ],
      "metadata": {
        "colab": {
          "base_uri": "https://localhost:8080/"
        },
        "id": "6cIxV6GvnqcA",
        "outputId": "322ad180-c8c4-495c-d978-e8da316a34dc"
      },
      "execution_count": 45,
      "outputs": [
        {
          "output_type": "stream",
          "name": "stdout",
          "text": [
            "Looking in indexes: https://pypi.org/simple, https://us-python.pkg.dev/colab-wheels/public/simple/\n",
            "Requirement already satisfied: pybliometrics in /usr/local/lib/python3.7/dist-packages (3.4.0)\n",
            "Requirement already satisfied: pbr in /usr/local/lib/python3.7/dist-packages (from pybliometrics) (5.11.0)\n",
            "Requirement already satisfied: simplejson in /usr/local/lib/python3.7/dist-packages (from pybliometrics) (3.17.6)\n",
            "Requirement already satisfied: tqdm in /usr/local/lib/python3.7/dist-packages (from pybliometrics) (4.64.1)\n",
            "Requirement already satisfied: requests in /usr/local/lib/python3.7/dist-packages (from pybliometrics) (2.23.0)\n",
            "Requirement already satisfied: urllib3!=1.25.0,!=1.25.1,<1.26,>=1.21.1 in /usr/local/lib/python3.7/dist-packages (from requests->pybliometrics) (1.24.3)\n",
            "Requirement already satisfied: chardet<4,>=3.0.2 in /usr/local/lib/python3.7/dist-packages (from requests->pybliometrics) (3.0.4)\n",
            "Requirement already satisfied: certifi>=2017.4.17 in /usr/local/lib/python3.7/dist-packages (from requests->pybliometrics) (2022.9.24)\n",
            "Requirement already satisfied: idna<3,>=2.5 in /usr/local/lib/python3.7/dist-packages (from requests->pybliometrics) (2.10)\n"
          ]
        }
      ]
    },
    {
      "cell_type": "code",
      "source": [
        "import pandas as pd\n",
        "import numpy as np\n",
        "import preprocessor as prepro # text prepro\n",
        "import tqdm #progress bar\n",
        "\n",
        "import spacy #spacy for quick language prepro\n",
        "nlp = spacy.load('en_core_web_sm') #instantiating English module\n",
        "\n",
        "# sampling, splitting\n",
        "from imblearn.under_sampling import RandomUnderSampler\n",
        "from sklearn.model_selection import train_test_split\n",
        "\n",
        "\n",
        "# loading ML libraries\n",
        "from sklearn.pipeline import make_pipeline #pipeline creation\n",
        "from sklearn.feature_extraction.text import TfidfVectorizer #transforms text to sparse matrix\n",
        "from sklearn.linear_model import LogisticRegression #Logit model\n",
        "from sklearn.metrics import classification_report #that's self explanatory\n",
        "from sklearn.decomposition import TruncatedSVD #dimensionality reduction\n",
        "from xgboost import XGBClassifier\n",
        "\n",
        "import altair as alt #viz\n",
        "\n",
        "#explainability\n",
        "import eli5\n",
        "from eli5.lime import TextExplainer\n",
        "\n",
        "# topic modeling\n",
        "\n",
        "from gensim.corpora.dictionary import Dictionary # Import the dictionary builder\n",
        "from gensim.models import LdaMulticore # we'll use the faster multicore version of LDA\n",
        "\n",
        "# Import pyLDAvis\n",
        "import pyLDAvis\n",
        "import pyLDAvis.gensim_models as gensimvis\n",
        "\n",
        "%matplotlib inline\n",
        "pyLDAvis.enable_notebook()\n",
        "\n",
        "from pybliometrics.scopus import AbstractRetrieval"
      ],
      "metadata": {
        "id": "KcewzndTPNBO"
      },
      "execution_count": 46,
      "outputs": []
    },
    {
      "cell_type": "code",
      "source": [
        "# prepro settings\n",
        "prepro.set_options(prepro.OPT.URL, prepro.OPT.NUMBER, prepro.OPT.RESERVED, prepro.OPT.MENTION, prepro.OPT.SMILEY)"
      ],
      "metadata": {
        "id": "kT7WH3OzPQMc"
      },
      "execution_count": 47,
      "outputs": []
    },
    {
      "cell_type": "markdown",
      "source": [
        "# Data loading and preparation"
      ],
      "metadata": {
        "id": "TEdeaS5tj6of"
      }
    },
    {
      "cell_type": "code",
      "source": [
        "data = pd.read_csv(\"https://raw.githubusercontent.com/Alphambarushimana/Sustainability/main/scopuswithlabels.csv\")"
      ],
      "metadata": {
        "id": "JBjtqQFUPjly"
      },
      "execution_count": 48,
      "outputs": []
    },
    {
      "cell_type": "code",
      "source": [
        "data"
      ],
      "metadata": {
        "id": "7MrtAvLtQ5Ui",
        "colab": {
          "base_uri": "https://localhost:8080/",
          "height": 1000
        },
        "outputId": "d0fce1e2-4ef0-4ab3-e8cd-15608c4a84bb"
      },
      "execution_count": 49,
      "outputs": [
        {
          "output_type": "execute_result",
          "data": {
            "text/plain": [
              "                                                Authors  \\\n",
              "0         Chapwanya M., Lubuma J., Terefe Y., Tsanou B.   \n",
              "1     Piat M., Wainwright M., Rivest M.-P., Sofouli ...   \n",
              "2     Velayati F., Ayatollahi H., Hemmat M., Dehghan R.   \n",
              "3     Pastor A.V., Nunes J.P., Ciampalini R., Bahri ...   \n",
              "4     Abdullah H.M., Dakurah T., Akoto H., Abaidoo B...   \n",
              "...                                                 ...   \n",
              "1629           Armeanu D.S., Vintilă G., Gherghina S.C.   \n",
              "1630                 Abaunza F., Hameri A.-P., Niemi T.   \n",
              "1631                                   Zhang Y., Lin Z.   \n",
              "1632  Greening H., Swann R., St. Pé K., Testroet-Ber...   \n",
              "1633  Tohen M., Gold A.K., Sylvia L.G., Montana R.E....   \n",
              "\n",
              "                                           Author(s) ID  \\\n",
              "0       26026788700;6602950766;54783401400;25823549000;   \n",
              "1     6604070039;35090631400;56871264100;18635052000...   \n",
              "2      57219486899;55991128900;57170342800;57365458900;   \n",
              "3     55927118200;7102878032;6506995140;7004276837;5...   \n",
              "4     57887451300;12140148900;57213456448;5623694480...   \n",
              "...                                                 ...   \n",
              "1629               26434149400;26434536500;56046530600;   \n",
              "1630                56060899300;7003735163;57215042589;   \n",
              "1631                           57840767400;54894812400;   \n",
              "1632  6602993313;36025859800;15038078600;57196705444...   \n",
              "1633  7005960357;56937980000;24073745400;57191777872...   \n",
              "\n",
              "                                                  Title  Year  \\\n",
              "0     Analysis of War and Conflict Effect on the Tra...  2022   \n",
              "1     The impacts of implementing recovery innovatio...  2022   \n",
              "2         The 4P telehealth business framework for Iran  2022   \n",
              "3     ScenaLand: a simple methodology for developing...  2022   \n",
              "4     Predictors of recurrence of chronic subdural h...  2022   \n",
              "...                                                 ...   ...   \n",
              "1629  Empirical study towards the drivers of sustain...  2018   \n",
              "1630  EEUI: a new measure to monitor and manage ener...  2018   \n",
              "1631  Predicting the helpfulness of online product r...  2018   \n",
              "1632  Local implementation of a national program: Th...  2018   \n",
              "1633  Corrigendum to bipolar mixed features – Result...  2018   \n",
              "\n",
              "                                           Source title Volume Issue Art. No.  \\\n",
              "0                      Bulletin of Mathematical Biology     84    12      136   \n",
              "1        International Journal of Mental Health Systems     16     1       49   \n",
              "2           BMC Medical Informatics and Decision Making     22     1      266   \n",
              "3     Mitigation and Adaptation Strategies for Globa...     27     8       52   \n",
              "4                                         BMC Neurology     22     1      346   \n",
              "...                                                 ...    ...   ...      ...   \n",
              "1629                       Sustainability (Switzerland)     10     1        4   \n",
              "1630  International Journal of Productivity and Perf...     67     1      NaN   \n",
              "1631      Electronic Commerce Research and Applications     27   NaN      NaN   \n",
              "1632                                      Marine Policy     87   NaN      NaN   \n",
              "1633                     Journal of Affective Disorders    225   NaN      NaN   \n",
              "\n",
              "     Page start Page end  ...  \\\n",
              "0           NaN      NaN  ...   \n",
              "1           NaN      NaN  ...   \n",
              "2           NaN      NaN  ...   \n",
              "3           NaN      NaN  ...   \n",
              "4           NaN      NaN  ...   \n",
              "...         ...      ...  ...   \n",
              "1629        NaN      NaN  ...   \n",
              "1630        111      127  ...   \n",
              "1631          1       10  ...   \n",
              "1632         60       64  ...   \n",
              "1633        775      777  ...   \n",
              "\n",
              "                                           Affiliations  \\\n",
              "0     Department of Mathematics and Applied Mathemat...   \n",
              "1     Department of Psychiatry, McGill University an...   \n",
              "2     Telemedicine Research Center, National Researc...   \n",
              "3     LISAH, University Montpellier, INRAE, IRD, Ins...   \n",
              "4     Department of Surgery, Korle Bu Teaching Hospi...   \n",
              "...                                                 ...   \n",
              "1629  Department of Finance, The Bucharest Universit...   \n",
              "1630  Faculty of Business and Economics, University ...   \n",
              "1631  School of Computing, National University of Si...   \n",
              "1632  Tampa Bay Estuary Program, 263 13th Ave S., Su...   \n",
              "1633  Department of Psychiatry & Behavioral Sciences...   \n",
              "\n",
              "                              Authors with affiliations  \\\n",
              "0     Chapwanya, M., Department of Mathematics and A...   \n",
              "1     Piat, M., Department of Psychiatry, McGill Uni...   \n",
              "2     Velayati, F., Telemedicine Research Center, Na...   \n",
              "3     Pastor, A.V., LISAH, University Montpellier, I...   \n",
              "4     Abdullah, H.M., Department of Surgery, Korle B...   \n",
              "...                                                 ...   \n",
              "1629  Armeanu, D.S., Department of Finance, The Buch...   \n",
              "1630  Abaunza, F., Faculty of Business and Economics...   \n",
              "1631  Zhang, Y., School of Computing, National Unive...   \n",
              "1632  Greening, H., Tampa Bay Estuary Program, 263 1...   \n",
              "1633  Tohen, M., Department of Psychiatry & Behavior...   \n",
              "\n",
              "                                               Abstract  \\\n",
              "0     The tenth Ebola outbreak in the Democratic Rep...   \n",
              "1     Background: Implementing mental health recover...   \n",
              "2     Background: Telehealth services can utilize va...   \n",
              "3     Scenarios serve science by testing the sensiti...   \n",
              "4     Background: Chronic subdural haematoma (CSDH) ...   \n",
              "...                                                 ...   \n",
              "1629  This study aims at empirically investigating t...   \n",
              "1630  Purpose: Data centers (DCs) are similar to tra...   \n",
              "1631  Identifying helpful reviews from massive revie...   \n",
              "1632  The US Environmental Protection Agency's Natio...   \n",
              "1633  The authors regret that conflicts of interest ...   \n",
              "\n",
              "                                        Author Keywords  \\\n",
              "0     Basic reproduction number; Conflict dynamics; ...   \n",
              "1     Conceptual framework; Guidelines; Impact; Impl...   \n",
              "2     Business; Health service marketing; Telehealth...   \n",
              "3     Experts; Land degradation; Land use and manage...   \n",
              "4     Association; Chronic; Haematoma; Predictors; R...   \n",
              "...                                                 ...   \n",
              "1629  Economic growth; EU-28; Fixed and random effec...   \n",
              "1630  Data centres; Energy efficiency; Energy propor...   \n",
              "1631  Multilingual reviews; Prediction; Product revi...   \n",
              "1632  Education; Environmental restoration; Governan...   \n",
              "1633                                                NaN   \n",
              "\n",
              "                                         Index Keywords Document Type  \\\n",
              "0     basic reproduction number; biological model; D...       Article   \n",
              "1     adult; article; conceptual framework; content ...       Article   \n",
              "2     adult; article; comparative effectiveness; Del...       Article   \n",
              "3     agricultural soil; environmental protection; e...       Article   \n",
              "4     anticoagulant agent; antithrombocytic agent; w...       Article   \n",
              "...                                                 ...           ...   \n",
              "1629  economic growth; employment; European Union; h...       Article   \n",
              "1630                                                NaN       Article   \n",
              "1631  Information analysis; Business intelligence ap...       Article   \n",
              "1632  adaptive management; environmental education; ...       Article   \n",
              "1633                            Erratum; error; erratum       Erratum   \n",
              "\n",
              "     Publication Stage Open Access  Source                 EID  \n",
              "0                Final         NaN  Scopus  2-s2.0-85140065004  \n",
              "1                Final         NaN  Scopus  2-s2.0-85139748940  \n",
              "2                Final         NaN  Scopus  2-s2.0-85139435002  \n",
              "3                Final         NaN  Scopus  2-s2.0-85138219727  \n",
              "4                Final         NaN  Scopus  2-s2.0-85137878264  \n",
              "...                ...         ...     ...                 ...  \n",
              "1629             Final         NaN  Scopus  2-s2.0-85038843701  \n",
              "1630             Final         NaN  Scopus  2-s2.0-85038831501  \n",
              "1631             Final         NaN  Scopus  2-s2.0-85034025634  \n",
              "1632             Final         NaN  Scopus  2-s2.0-85033715366  \n",
              "1633             Final         NaN  Scopus  2-s2.0-85027543906  \n",
              "\n",
              "[1634 rows x 24 columns]"
            ],
            "text/html": [
              "\n",
              "  <div id=\"df-0e7124d0-144d-4015-b38c-e9e3236cb2e7\">\n",
              "    <div class=\"colab-df-container\">\n",
              "      <div>\n",
              "<style scoped>\n",
              "    .dataframe tbody tr th:only-of-type {\n",
              "        vertical-align: middle;\n",
              "    }\n",
              "\n",
              "    .dataframe tbody tr th {\n",
              "        vertical-align: top;\n",
              "    }\n",
              "\n",
              "    .dataframe thead th {\n",
              "        text-align: right;\n",
              "    }\n",
              "</style>\n",
              "<table border=\"1\" class=\"dataframe\">\n",
              "  <thead>\n",
              "    <tr style=\"text-align: right;\">\n",
              "      <th></th>\n",
              "      <th>Authors</th>\n",
              "      <th>Author(s) ID</th>\n",
              "      <th>Title</th>\n",
              "      <th>Year</th>\n",
              "      <th>Source title</th>\n",
              "      <th>Volume</th>\n",
              "      <th>Issue</th>\n",
              "      <th>Art. No.</th>\n",
              "      <th>Page start</th>\n",
              "      <th>Page end</th>\n",
              "      <th>...</th>\n",
              "      <th>Affiliations</th>\n",
              "      <th>Authors with affiliations</th>\n",
              "      <th>Abstract</th>\n",
              "      <th>Author Keywords</th>\n",
              "      <th>Index Keywords</th>\n",
              "      <th>Document Type</th>\n",
              "      <th>Publication Stage</th>\n",
              "      <th>Open Access</th>\n",
              "      <th>Source</th>\n",
              "      <th>EID</th>\n",
              "    </tr>\n",
              "  </thead>\n",
              "  <tbody>\n",
              "    <tr>\n",
              "      <th>0</th>\n",
              "      <td>Chapwanya M., Lubuma J., Terefe Y., Tsanou B.</td>\n",
              "      <td>26026788700;6602950766;54783401400;25823549000;</td>\n",
              "      <td>Analysis of War and Conflict Effect on the Tra...</td>\n",
              "      <td>2022</td>\n",
              "      <td>Bulletin of Mathematical Biology</td>\n",
              "      <td>84</td>\n",
              "      <td>12</td>\n",
              "      <td>136</td>\n",
              "      <td>NaN</td>\n",
              "      <td>NaN</td>\n",
              "      <td>...</td>\n",
              "      <td>Department of Mathematics and Applied Mathemat...</td>\n",
              "      <td>Chapwanya, M., Department of Mathematics and A...</td>\n",
              "      <td>The tenth Ebola outbreak in the Democratic Rep...</td>\n",
              "      <td>Basic reproduction number; Conflict dynamics; ...</td>\n",
              "      <td>basic reproduction number; biological model; D...</td>\n",
              "      <td>Article</td>\n",
              "      <td>Final</td>\n",
              "      <td>NaN</td>\n",
              "      <td>Scopus</td>\n",
              "      <td>2-s2.0-85140065004</td>\n",
              "    </tr>\n",
              "    <tr>\n",
              "      <th>1</th>\n",
              "      <td>Piat M., Wainwright M., Rivest M.-P., Sofouli ...</td>\n",
              "      <td>6604070039;35090631400;56871264100;18635052000...</td>\n",
              "      <td>The impacts of implementing recovery innovatio...</td>\n",
              "      <td>2022</td>\n",
              "      <td>International Journal of Mental Health Systems</td>\n",
              "      <td>16</td>\n",
              "      <td>1</td>\n",
              "      <td>49</td>\n",
              "      <td>NaN</td>\n",
              "      <td>NaN</td>\n",
              "      <td>...</td>\n",
              "      <td>Department of Psychiatry, McGill University an...</td>\n",
              "      <td>Piat, M., Department of Psychiatry, McGill Uni...</td>\n",
              "      <td>Background: Implementing mental health recover...</td>\n",
              "      <td>Conceptual framework; Guidelines; Impact; Impl...</td>\n",
              "      <td>adult; article; conceptual framework; content ...</td>\n",
              "      <td>Article</td>\n",
              "      <td>Final</td>\n",
              "      <td>NaN</td>\n",
              "      <td>Scopus</td>\n",
              "      <td>2-s2.0-85139748940</td>\n",
              "    </tr>\n",
              "    <tr>\n",
              "      <th>2</th>\n",
              "      <td>Velayati F., Ayatollahi H., Hemmat M., Dehghan R.</td>\n",
              "      <td>57219486899;55991128900;57170342800;57365458900;</td>\n",
              "      <td>The 4P telehealth business framework for Iran</td>\n",
              "      <td>2022</td>\n",
              "      <td>BMC Medical Informatics and Decision Making</td>\n",
              "      <td>22</td>\n",
              "      <td>1</td>\n",
              "      <td>266</td>\n",
              "      <td>NaN</td>\n",
              "      <td>NaN</td>\n",
              "      <td>...</td>\n",
              "      <td>Telemedicine Research Center, National Researc...</td>\n",
              "      <td>Velayati, F., Telemedicine Research Center, Na...</td>\n",
              "      <td>Background: Telehealth services can utilize va...</td>\n",
              "      <td>Business; Health service marketing; Telehealth...</td>\n",
              "      <td>adult; article; comparative effectiveness; Del...</td>\n",
              "      <td>Article</td>\n",
              "      <td>Final</td>\n",
              "      <td>NaN</td>\n",
              "      <td>Scopus</td>\n",
              "      <td>2-s2.0-85139435002</td>\n",
              "    </tr>\n",
              "    <tr>\n",
              "      <th>3</th>\n",
              "      <td>Pastor A.V., Nunes J.P., Ciampalini R., Bahri ...</td>\n",
              "      <td>55927118200;7102878032;6506995140;7004276837;5...</td>\n",
              "      <td>ScenaLand: a simple methodology for developing...</td>\n",
              "      <td>2022</td>\n",
              "      <td>Mitigation and Adaptation Strategies for Globa...</td>\n",
              "      <td>27</td>\n",
              "      <td>8</td>\n",
              "      <td>52</td>\n",
              "      <td>NaN</td>\n",
              "      <td>NaN</td>\n",
              "      <td>...</td>\n",
              "      <td>LISAH, University Montpellier, INRAE, IRD, Ins...</td>\n",
              "      <td>Pastor, A.V., LISAH, University Montpellier, I...</td>\n",
              "      <td>Scenarios serve science by testing the sensiti...</td>\n",
              "      <td>Experts; Land degradation; Land use and manage...</td>\n",
              "      <td>agricultural soil; environmental protection; e...</td>\n",
              "      <td>Article</td>\n",
              "      <td>Final</td>\n",
              "      <td>NaN</td>\n",
              "      <td>Scopus</td>\n",
              "      <td>2-s2.0-85138219727</td>\n",
              "    </tr>\n",
              "    <tr>\n",
              "      <th>4</th>\n",
              "      <td>Abdullah H.M., Dakurah T., Akoto H., Abaidoo B...</td>\n",
              "      <td>57887451300;12140148900;57213456448;5623694480...</td>\n",
              "      <td>Predictors of recurrence of chronic subdural h...</td>\n",
              "      <td>2022</td>\n",
              "      <td>BMC Neurology</td>\n",
              "      <td>22</td>\n",
              "      <td>1</td>\n",
              "      <td>346</td>\n",
              "      <td>NaN</td>\n",
              "      <td>NaN</td>\n",
              "      <td>...</td>\n",
              "      <td>Department of Surgery, Korle Bu Teaching Hospi...</td>\n",
              "      <td>Abdullah, H.M., Department of Surgery, Korle B...</td>\n",
              "      <td>Background: Chronic subdural haematoma (CSDH) ...</td>\n",
              "      <td>Association; Chronic; Haematoma; Predictors; R...</td>\n",
              "      <td>anticoagulant agent; antithrombocytic agent; w...</td>\n",
              "      <td>Article</td>\n",
              "      <td>Final</td>\n",
              "      <td>NaN</td>\n",
              "      <td>Scopus</td>\n",
              "      <td>2-s2.0-85137878264</td>\n",
              "    </tr>\n",
              "    <tr>\n",
              "      <th>...</th>\n",
              "      <td>...</td>\n",
              "      <td>...</td>\n",
              "      <td>...</td>\n",
              "      <td>...</td>\n",
              "      <td>...</td>\n",
              "      <td>...</td>\n",
              "      <td>...</td>\n",
              "      <td>...</td>\n",
              "      <td>...</td>\n",
              "      <td>...</td>\n",
              "      <td>...</td>\n",
              "      <td>...</td>\n",
              "      <td>...</td>\n",
              "      <td>...</td>\n",
              "      <td>...</td>\n",
              "      <td>...</td>\n",
              "      <td>...</td>\n",
              "      <td>...</td>\n",
              "      <td>...</td>\n",
              "      <td>...</td>\n",
              "      <td>...</td>\n",
              "    </tr>\n",
              "    <tr>\n",
              "      <th>1629</th>\n",
              "      <td>Armeanu D.S., Vintilă G., Gherghina S.C.</td>\n",
              "      <td>26434149400;26434536500;56046530600;</td>\n",
              "      <td>Empirical study towards the drivers of sustain...</td>\n",
              "      <td>2018</td>\n",
              "      <td>Sustainability (Switzerland)</td>\n",
              "      <td>10</td>\n",
              "      <td>1</td>\n",
              "      <td>4</td>\n",
              "      <td>NaN</td>\n",
              "      <td>NaN</td>\n",
              "      <td>...</td>\n",
              "      <td>Department of Finance, The Bucharest Universit...</td>\n",
              "      <td>Armeanu, D.S., Department of Finance, The Buch...</td>\n",
              "      <td>This study aims at empirically investigating t...</td>\n",
              "      <td>Economic growth; EU-28; Fixed and random effec...</td>\n",
              "      <td>economic growth; employment; European Union; h...</td>\n",
              "      <td>Article</td>\n",
              "      <td>Final</td>\n",
              "      <td>NaN</td>\n",
              "      <td>Scopus</td>\n",
              "      <td>2-s2.0-85038843701</td>\n",
              "    </tr>\n",
              "    <tr>\n",
              "      <th>1630</th>\n",
              "      <td>Abaunza F., Hameri A.-P., Niemi T.</td>\n",
              "      <td>56060899300;7003735163;57215042589;</td>\n",
              "      <td>EEUI: a new measure to monitor and manage ener...</td>\n",
              "      <td>2018</td>\n",
              "      <td>International Journal of Productivity and Perf...</td>\n",
              "      <td>67</td>\n",
              "      <td>1</td>\n",
              "      <td>NaN</td>\n",
              "      <td>111</td>\n",
              "      <td>127</td>\n",
              "      <td>...</td>\n",
              "      <td>Faculty of Business and Economics, University ...</td>\n",
              "      <td>Abaunza, F., Faculty of Business and Economics...</td>\n",
              "      <td>Purpose: Data centers (DCs) are similar to tra...</td>\n",
              "      <td>Data centres; Energy efficiency; Energy propor...</td>\n",
              "      <td>NaN</td>\n",
              "      <td>Article</td>\n",
              "      <td>Final</td>\n",
              "      <td>NaN</td>\n",
              "      <td>Scopus</td>\n",
              "      <td>2-s2.0-85038831501</td>\n",
              "    </tr>\n",
              "    <tr>\n",
              "      <th>1631</th>\n",
              "      <td>Zhang Y., Lin Z.</td>\n",
              "      <td>57840767400;54894812400;</td>\n",
              "      <td>Predicting the helpfulness of online product r...</td>\n",
              "      <td>2018</td>\n",
              "      <td>Electronic Commerce Research and Applications</td>\n",
              "      <td>27</td>\n",
              "      <td>NaN</td>\n",
              "      <td>NaN</td>\n",
              "      <td>1</td>\n",
              "      <td>10</td>\n",
              "      <td>...</td>\n",
              "      <td>School of Computing, National University of Si...</td>\n",
              "      <td>Zhang, Y., School of Computing, National Unive...</td>\n",
              "      <td>Identifying helpful reviews from massive revie...</td>\n",
              "      <td>Multilingual reviews; Prediction; Product revi...</td>\n",
              "      <td>Information analysis; Business intelligence ap...</td>\n",
              "      <td>Article</td>\n",
              "      <td>Final</td>\n",
              "      <td>NaN</td>\n",
              "      <td>Scopus</td>\n",
              "      <td>2-s2.0-85034025634</td>\n",
              "    </tr>\n",
              "    <tr>\n",
              "      <th>1632</th>\n",
              "      <td>Greening H., Swann R., St. Pé K., Testroet-Ber...</td>\n",
              "      <td>6602993313;36025859800;15038078600;57196705444...</td>\n",
              "      <td>Local implementation of a national program: Th...</td>\n",
              "      <td>2018</td>\n",
              "      <td>Marine Policy</td>\n",
              "      <td>87</td>\n",
              "      <td>NaN</td>\n",
              "      <td>NaN</td>\n",
              "      <td>60</td>\n",
              "      <td>64</td>\n",
              "      <td>...</td>\n",
              "      <td>Tampa Bay Estuary Program, 263 13th Ave S., Su...</td>\n",
              "      <td>Greening, H., Tampa Bay Estuary Program, 263 1...</td>\n",
              "      <td>The US Environmental Protection Agency's Natio...</td>\n",
              "      <td>Education; Environmental restoration; Governan...</td>\n",
              "      <td>adaptive management; environmental education; ...</td>\n",
              "      <td>Article</td>\n",
              "      <td>Final</td>\n",
              "      <td>NaN</td>\n",
              "      <td>Scopus</td>\n",
              "      <td>2-s2.0-85033715366</td>\n",
              "    </tr>\n",
              "    <tr>\n",
              "      <th>1633</th>\n",
              "      <td>Tohen M., Gold A.K., Sylvia L.G., Montana R.E....</td>\n",
              "      <td>7005960357;56937980000;24073745400;57191777872...</td>\n",
              "      <td>Corrigendum to bipolar mixed features – Result...</td>\n",
              "      <td>2018</td>\n",
              "      <td>Journal of Affective Disorders</td>\n",
              "      <td>225</td>\n",
              "      <td>NaN</td>\n",
              "      <td>NaN</td>\n",
              "      <td>775</td>\n",
              "      <td>777</td>\n",
              "      <td>...</td>\n",
              "      <td>Department of Psychiatry &amp; Behavioral Sciences...</td>\n",
              "      <td>Tohen, M., Department of Psychiatry &amp; Behavior...</td>\n",
              "      <td>The authors regret that conflicts of interest ...</td>\n",
              "      <td>NaN</td>\n",
              "      <td>Erratum; error; erratum</td>\n",
              "      <td>Erratum</td>\n",
              "      <td>Final</td>\n",
              "      <td>NaN</td>\n",
              "      <td>Scopus</td>\n",
              "      <td>2-s2.0-85027543906</td>\n",
              "    </tr>\n",
              "  </tbody>\n",
              "</table>\n",
              "<p>1634 rows × 24 columns</p>\n",
              "</div>\n",
              "      <button class=\"colab-df-convert\" onclick=\"convertToInteractive('df-0e7124d0-144d-4015-b38c-e9e3236cb2e7')\"\n",
              "              title=\"Convert this dataframe to an interactive table.\"\n",
              "              style=\"display:none;\">\n",
              "        \n",
              "  <svg xmlns=\"http://www.w3.org/2000/svg\" height=\"24px\"viewBox=\"0 0 24 24\"\n",
              "       width=\"24px\">\n",
              "    <path d=\"M0 0h24v24H0V0z\" fill=\"none\"/>\n",
              "    <path d=\"M18.56 5.44l.94 2.06.94-2.06 2.06-.94-2.06-.94-.94-2.06-.94 2.06-2.06.94zm-11 1L8.5 8.5l.94-2.06 2.06-.94-2.06-.94L8.5 2.5l-.94 2.06-2.06.94zm10 10l.94 2.06.94-2.06 2.06-.94-2.06-.94-.94-2.06-.94 2.06-2.06.94z\"/><path d=\"M17.41 7.96l-1.37-1.37c-.4-.4-.92-.59-1.43-.59-.52 0-1.04.2-1.43.59L10.3 9.45l-7.72 7.72c-.78.78-.78 2.05 0 2.83L4 21.41c.39.39.9.59 1.41.59.51 0 1.02-.2 1.41-.59l7.78-7.78 2.81-2.81c.8-.78.8-2.07 0-2.86zM5.41 20L4 18.59l7.72-7.72 1.47 1.35L5.41 20z\"/>\n",
              "  </svg>\n",
              "      </button>\n",
              "      \n",
              "  <style>\n",
              "    .colab-df-container {\n",
              "      display:flex;\n",
              "      flex-wrap:wrap;\n",
              "      gap: 12px;\n",
              "    }\n",
              "\n",
              "    .colab-df-convert {\n",
              "      background-color: #E8F0FE;\n",
              "      border: none;\n",
              "      border-radius: 50%;\n",
              "      cursor: pointer;\n",
              "      display: none;\n",
              "      fill: #1967D2;\n",
              "      height: 32px;\n",
              "      padding: 0 0 0 0;\n",
              "      width: 32px;\n",
              "    }\n",
              "\n",
              "    .colab-df-convert:hover {\n",
              "      background-color: #E2EBFA;\n",
              "      box-shadow: 0px 1px 2px rgba(60, 64, 67, 0.3), 0px 1px 3px 1px rgba(60, 64, 67, 0.15);\n",
              "      fill: #174EA6;\n",
              "    }\n",
              "\n",
              "    [theme=dark] .colab-df-convert {\n",
              "      background-color: #3B4455;\n",
              "      fill: #D2E3FC;\n",
              "    }\n",
              "\n",
              "    [theme=dark] .colab-df-convert:hover {\n",
              "      background-color: #434B5C;\n",
              "      box-shadow: 0px 1px 3px 1px rgba(0, 0, 0, 0.15);\n",
              "      filter: drop-shadow(0px 1px 2px rgba(0, 0, 0, 0.3));\n",
              "      fill: #FFFFFF;\n",
              "    }\n",
              "  </style>\n",
              "\n",
              "      <script>\n",
              "        const buttonEl =\n",
              "          document.querySelector('#df-0e7124d0-144d-4015-b38c-e9e3236cb2e7 button.colab-df-convert');\n",
              "        buttonEl.style.display =\n",
              "          google.colab.kernel.accessAllowed ? 'block' : 'none';\n",
              "\n",
              "        async function convertToInteractive(key) {\n",
              "          const element = document.querySelector('#df-0e7124d0-144d-4015-b38c-e9e3236cb2e7');\n",
              "          const dataTable =\n",
              "            await google.colab.kernel.invokeFunction('convertToInteractive',\n",
              "                                                     [key], {});\n",
              "          if (!dataTable) return;\n",
              "\n",
              "          const docLinkHtml = 'Like what you see? Visit the ' +\n",
              "            '<a target=\"_blank\" href=https://colab.research.google.com/notebooks/data_table.ipynb>data table notebook</a>'\n",
              "            + ' to learn more about interactive tables.';\n",
              "          element.innerHTML = '';\n",
              "          dataTable['output_type'] = 'display_data';\n",
              "          await google.colab.output.renderOutput(dataTable, element);\n",
              "          const docLink = document.createElement('div');\n",
              "          docLink.innerHTML = docLinkHtml;\n",
              "          element.appendChild(docLink);\n",
              "        }\n",
              "      </script>\n",
              "    </div>\n",
              "  </div>\n",
              "  "
            ]
          },
          "metadata": {},
          "execution_count": 49
        }
      ]
    },
    {
      "cell_type": "code",
      "source": [
        "data.info()"
      ],
      "metadata": {
        "id": "ufbBX3QwQ6RN",
        "colab": {
          "base_uri": "https://localhost:8080/"
        },
        "outputId": "e92b742b-2160-4ca3-c4a0-e43059490a72"
      },
      "execution_count": 50,
      "outputs": [
        {
          "output_type": "stream",
          "name": "stdout",
          "text": [
            "<class 'pandas.core.frame.DataFrame'>\n",
            "RangeIndex: 1634 entries, 0 to 1633\n",
            "Data columns (total 24 columns):\n",
            " #   Column                     Non-Null Count  Dtype  \n",
            "---  ------                     --------------  -----  \n",
            " 0   Authors                    1634 non-null   object \n",
            " 1   Author(s) ID               1634 non-null   object \n",
            " 2   Title                      1634 non-null   object \n",
            " 3   Year                       1634 non-null   int64  \n",
            " 4   Source title               1634 non-null   object \n",
            " 5   Volume                     1219 non-null   object \n",
            " 6   Issue                      930 non-null    object \n",
            " 7   Art. No.                   480 non-null    object \n",
            " 8   Page start                 1046 non-null   object \n",
            " 9   Page end                   1026 non-null   object \n",
            " 10  Page count                 47 non-null     float64\n",
            " 11  Cited by                   1005 non-null   float64\n",
            " 12  DOI                        1428 non-null   object \n",
            " 13  Link                       1634 non-null   object \n",
            " 14  Affiliations               1574 non-null   object \n",
            " 15  Authors with affiliations  1589 non-null   object \n",
            " 16  Abstract                   1634 non-null   object \n",
            " 17  Author Keywords            1350 non-null   object \n",
            " 18  Index Keywords             795 non-null    object \n",
            " 19  Document Type              1634 non-null   object \n",
            " 20  Publication Stage          1634 non-null   object \n",
            " 21  Open Access                0 non-null      float64\n",
            " 22  Source                     1634 non-null   object \n",
            " 23  EID                        1634 non-null   object \n",
            "dtypes: float64(3), int64(1), object(20)\n",
            "memory usage: 306.5+ KB\n"
          ]
        }
      ]
    },
    {
      "cell_type": "code",
      "source": [
        "data = data[['Authors', 'Author(s) ID','Title', 'Abstract','Year', 'Source title']]"
      ],
      "metadata": {
        "id": "6KHH39zfUlg0"
      },
      "execution_count": 51,
      "outputs": []
    },
    {
      "cell_type": "code",
      "source": [
        "data.isnull().sum()"
      ],
      "metadata": {
        "id": "q3R5MPDXUY0N",
        "colab": {
          "base_uri": "https://localhost:8080/"
        },
        "outputId": "f2bd88e2-43c9-46f0-99ea-6d0b5110d040"
      },
      "execution_count": 52,
      "outputs": [
        {
          "output_type": "execute_result",
          "data": {
            "text/plain": [
              "Authors         0\n",
              "Author(s) ID    0\n",
              "Title           0\n",
              "Abstract        0\n",
              "Year            0\n",
              "Source title    0\n",
              "dtype: int64"
            ]
          },
          "metadata": {},
          "execution_count": 52
        }
      ]
    },
    {
      "cell_type": "code",
      "source": [
        "data.dropna(subset=['Author(s) ID'], inplace=True)"
      ],
      "metadata": {
        "id": "K4yWclsHVq1x",
        "colab": {
          "base_uri": "https://localhost:8080/"
        },
        "outputId": "ebe82cac-01dd-425a-8d77-632decab8019"
      },
      "execution_count": 53,
      "outputs": [
        {
          "output_type": "stream",
          "name": "stderr",
          "text": [
            "/usr/local/lib/python3.7/dist-packages/pandas/util/_decorators.py:311: SettingWithCopyWarning: \n",
            "A value is trying to be set on a copy of a slice from a DataFrame\n",
            "\n",
            "See the caveats in the documentation: https://pandas.pydata.org/pandas-docs/stable/user_guide/indexing.html#returning-a-view-versus-a-copy\n",
            "  return func(*args, **kwargs)\n"
          ]
        }
      ]
    },
    {
      "cell_type": "code",
      "source": [
        "data.head()"
      ],
      "metadata": {
        "id": "tK1-2fF1XMXg",
        "colab": {
          "base_uri": "https://localhost:8080/",
          "height": 337
        },
        "outputId": "bfd3d16c-25ac-4ad9-dc1e-8d1d4fa9d48a"
      },
      "execution_count": 54,
      "outputs": [
        {
          "output_type": "execute_result",
          "data": {
            "text/plain": [
              "                                             Authors  \\\n",
              "0      Chapwanya M., Lubuma J., Terefe Y., Tsanou B.   \n",
              "1  Piat M., Wainwright M., Rivest M.-P., Sofouli ...   \n",
              "2  Velayati F., Ayatollahi H., Hemmat M., Dehghan R.   \n",
              "3  Pastor A.V., Nunes J.P., Ciampalini R., Bahri ...   \n",
              "4  Abdullah H.M., Dakurah T., Akoto H., Abaidoo B...   \n",
              "\n",
              "                                        Author(s) ID  \\\n",
              "0    26026788700;6602950766;54783401400;25823549000;   \n",
              "1  6604070039;35090631400;56871264100;18635052000...   \n",
              "2   57219486899;55991128900;57170342800;57365458900;   \n",
              "3  55927118200;7102878032;6506995140;7004276837;5...   \n",
              "4  57887451300;12140148900;57213456448;5623694480...   \n",
              "\n",
              "                                               Title  \\\n",
              "0  Analysis of War and Conflict Effect on the Tra...   \n",
              "1  The impacts of implementing recovery innovatio...   \n",
              "2      The 4P telehealth business framework for Iran   \n",
              "3  ScenaLand: a simple methodology for developing...   \n",
              "4  Predictors of recurrence of chronic subdural h...   \n",
              "\n",
              "                                            Abstract  Year  \\\n",
              "0  The tenth Ebola outbreak in the Democratic Rep...  2022   \n",
              "1  Background: Implementing mental health recover...  2022   \n",
              "2  Background: Telehealth services can utilize va...  2022   \n",
              "3  Scenarios serve science by testing the sensiti...  2022   \n",
              "4  Background: Chronic subdural haematoma (CSDH) ...  2022   \n",
              "\n",
              "                                        Source title  \n",
              "0                   Bulletin of Mathematical Biology  \n",
              "1     International Journal of Mental Health Systems  \n",
              "2        BMC Medical Informatics and Decision Making  \n",
              "3  Mitigation and Adaptation Strategies for Globa...  \n",
              "4                                      BMC Neurology  "
            ],
            "text/html": [
              "\n",
              "  <div id=\"df-83f1bdd1-02ec-480d-8053-206d4e4a44a6\">\n",
              "    <div class=\"colab-df-container\">\n",
              "      <div>\n",
              "<style scoped>\n",
              "    .dataframe tbody tr th:only-of-type {\n",
              "        vertical-align: middle;\n",
              "    }\n",
              "\n",
              "    .dataframe tbody tr th {\n",
              "        vertical-align: top;\n",
              "    }\n",
              "\n",
              "    .dataframe thead th {\n",
              "        text-align: right;\n",
              "    }\n",
              "</style>\n",
              "<table border=\"1\" class=\"dataframe\">\n",
              "  <thead>\n",
              "    <tr style=\"text-align: right;\">\n",
              "      <th></th>\n",
              "      <th>Authors</th>\n",
              "      <th>Author(s) ID</th>\n",
              "      <th>Title</th>\n",
              "      <th>Abstract</th>\n",
              "      <th>Year</th>\n",
              "      <th>Source title</th>\n",
              "    </tr>\n",
              "  </thead>\n",
              "  <tbody>\n",
              "    <tr>\n",
              "      <th>0</th>\n",
              "      <td>Chapwanya M., Lubuma J., Terefe Y., Tsanou B.</td>\n",
              "      <td>26026788700;6602950766;54783401400;25823549000;</td>\n",
              "      <td>Analysis of War and Conflict Effect on the Tra...</td>\n",
              "      <td>The tenth Ebola outbreak in the Democratic Rep...</td>\n",
              "      <td>2022</td>\n",
              "      <td>Bulletin of Mathematical Biology</td>\n",
              "    </tr>\n",
              "    <tr>\n",
              "      <th>1</th>\n",
              "      <td>Piat M., Wainwright M., Rivest M.-P., Sofouli ...</td>\n",
              "      <td>6604070039;35090631400;56871264100;18635052000...</td>\n",
              "      <td>The impacts of implementing recovery innovatio...</td>\n",
              "      <td>Background: Implementing mental health recover...</td>\n",
              "      <td>2022</td>\n",
              "      <td>International Journal of Mental Health Systems</td>\n",
              "    </tr>\n",
              "    <tr>\n",
              "      <th>2</th>\n",
              "      <td>Velayati F., Ayatollahi H., Hemmat M., Dehghan R.</td>\n",
              "      <td>57219486899;55991128900;57170342800;57365458900;</td>\n",
              "      <td>The 4P telehealth business framework for Iran</td>\n",
              "      <td>Background: Telehealth services can utilize va...</td>\n",
              "      <td>2022</td>\n",
              "      <td>BMC Medical Informatics and Decision Making</td>\n",
              "    </tr>\n",
              "    <tr>\n",
              "      <th>3</th>\n",
              "      <td>Pastor A.V., Nunes J.P., Ciampalini R., Bahri ...</td>\n",
              "      <td>55927118200;7102878032;6506995140;7004276837;5...</td>\n",
              "      <td>ScenaLand: a simple methodology for developing...</td>\n",
              "      <td>Scenarios serve science by testing the sensiti...</td>\n",
              "      <td>2022</td>\n",
              "      <td>Mitigation and Adaptation Strategies for Globa...</td>\n",
              "    </tr>\n",
              "    <tr>\n",
              "      <th>4</th>\n",
              "      <td>Abdullah H.M., Dakurah T., Akoto H., Abaidoo B...</td>\n",
              "      <td>57887451300;12140148900;57213456448;5623694480...</td>\n",
              "      <td>Predictors of recurrence of chronic subdural h...</td>\n",
              "      <td>Background: Chronic subdural haematoma (CSDH) ...</td>\n",
              "      <td>2022</td>\n",
              "      <td>BMC Neurology</td>\n",
              "    </tr>\n",
              "  </tbody>\n",
              "</table>\n",
              "</div>\n",
              "      <button class=\"colab-df-convert\" onclick=\"convertToInteractive('df-83f1bdd1-02ec-480d-8053-206d4e4a44a6')\"\n",
              "              title=\"Convert this dataframe to an interactive table.\"\n",
              "              style=\"display:none;\">\n",
              "        \n",
              "  <svg xmlns=\"http://www.w3.org/2000/svg\" height=\"24px\"viewBox=\"0 0 24 24\"\n",
              "       width=\"24px\">\n",
              "    <path d=\"M0 0h24v24H0V0z\" fill=\"none\"/>\n",
              "    <path d=\"M18.56 5.44l.94 2.06.94-2.06 2.06-.94-2.06-.94-.94-2.06-.94 2.06-2.06.94zm-11 1L8.5 8.5l.94-2.06 2.06-.94-2.06-.94L8.5 2.5l-.94 2.06-2.06.94zm10 10l.94 2.06.94-2.06 2.06-.94-2.06-.94-.94-2.06-.94 2.06-2.06.94z\"/><path d=\"M17.41 7.96l-1.37-1.37c-.4-.4-.92-.59-1.43-.59-.52 0-1.04.2-1.43.59L10.3 9.45l-7.72 7.72c-.78.78-.78 2.05 0 2.83L4 21.41c.39.39.9.59 1.41.59.51 0 1.02-.2 1.41-.59l7.78-7.78 2.81-2.81c.8-.78.8-2.07 0-2.86zM5.41 20L4 18.59l7.72-7.72 1.47 1.35L5.41 20z\"/>\n",
              "  </svg>\n",
              "      </button>\n",
              "      \n",
              "  <style>\n",
              "    .colab-df-container {\n",
              "      display:flex;\n",
              "      flex-wrap:wrap;\n",
              "      gap: 12px;\n",
              "    }\n",
              "\n",
              "    .colab-df-convert {\n",
              "      background-color: #E8F0FE;\n",
              "      border: none;\n",
              "      border-radius: 50%;\n",
              "      cursor: pointer;\n",
              "      display: none;\n",
              "      fill: #1967D2;\n",
              "      height: 32px;\n",
              "      padding: 0 0 0 0;\n",
              "      width: 32px;\n",
              "    }\n",
              "\n",
              "    .colab-df-convert:hover {\n",
              "      background-color: #E2EBFA;\n",
              "      box-shadow: 0px 1px 2px rgba(60, 64, 67, 0.3), 0px 1px 3px 1px rgba(60, 64, 67, 0.15);\n",
              "      fill: #174EA6;\n",
              "    }\n",
              "\n",
              "    [theme=dark] .colab-df-convert {\n",
              "      background-color: #3B4455;\n",
              "      fill: #D2E3FC;\n",
              "    }\n",
              "\n",
              "    [theme=dark] .colab-df-convert:hover {\n",
              "      background-color: #434B5C;\n",
              "      box-shadow: 0px 1px 3px 1px rgba(0, 0, 0, 0.15);\n",
              "      filter: drop-shadow(0px 1px 2px rgba(0, 0, 0, 0.3));\n",
              "      fill: #FFFFFF;\n",
              "    }\n",
              "  </style>\n",
              "\n",
              "      <script>\n",
              "        const buttonEl =\n",
              "          document.querySelector('#df-83f1bdd1-02ec-480d-8053-206d4e4a44a6 button.colab-df-convert');\n",
              "        buttonEl.style.display =\n",
              "          google.colab.kernel.accessAllowed ? 'block' : 'none';\n",
              "\n",
              "        async function convertToInteractive(key) {\n",
              "          const element = document.querySelector('#df-83f1bdd1-02ec-480d-8053-206d4e4a44a6');\n",
              "          const dataTable =\n",
              "            await google.colab.kernel.invokeFunction('convertToInteractive',\n",
              "                                                     [key], {});\n",
              "          if (!dataTable) return;\n",
              "\n",
              "          const docLinkHtml = 'Like what you see? Visit the ' +\n",
              "            '<a target=\"_blank\" href=https://colab.research.google.com/notebooks/data_table.ipynb>data table notebook</a>'\n",
              "            + ' to learn more about interactive tables.';\n",
              "          element.innerHTML = '';\n",
              "          dataTable['output_type'] = 'display_data';\n",
              "          await google.colab.output.renderOutput(dataTable, element);\n",
              "          const docLink = document.createElement('div');\n",
              "          docLink.innerHTML = docLinkHtml;\n",
              "          element.appendChild(docLink);\n",
              "        }\n",
              "      </script>\n",
              "    </div>\n",
              "  </div>\n",
              "  "
            ]
          },
          "metadata": {},
          "execution_count": 54
        }
      ]
    },
    {
      "cell_type": "markdown",
      "source": [
        "# Topic modelling"
      ],
      "metadata": {
        "id": "SVfF6HCPkDjB"
      }
    },
    {
      "cell_type": "code",
      "source": [
        "# Creating a new column.\n",
        "data ['text'] = data['Title'] + '. ' + data['Abstract']"
      ],
      "metadata": {
        "id": "FX66ZvXXXOrK",
        "colab": {
          "base_uri": "https://localhost:8080/"
        },
        "outputId": "8a3648c5-6094-4d03-929e-2bb15b6f4e6d"
      },
      "execution_count": 55,
      "outputs": [
        {
          "output_type": "stream",
          "name": "stderr",
          "text": [
            "/usr/local/lib/python3.7/dist-packages/ipykernel_launcher.py:2: SettingWithCopyWarning: \n",
            "A value is trying to be set on a copy of a slice from a DataFrame.\n",
            "Try using .loc[row_indexer,col_indexer] = value instead\n",
            "\n",
            "See the caveats in the documentation: https://pandas.pydata.org/pandas-docs/stable/user_guide/indexing.html#returning-a-view-versus-a-copy\n",
            "  \n"
          ]
        }
      ]
    },
    {
      "cell_type": "code",
      "source": [
        "data['text_clean'] = data['text'].map(lambda t: prepro.clean(t))\n",
        "data['text_clean'] = data['text_clean'].str.replace('#','')"
      ],
      "metadata": {
        "id": "MFnPYwwQXhRc",
        "colab": {
          "base_uri": "https://localhost:8080/"
        },
        "outputId": "badbad03-3ed2-4c73-8a28-b7222ef1551d"
      },
      "execution_count": 56,
      "outputs": [
        {
          "output_type": "stream",
          "name": "stderr",
          "text": [
            "/usr/local/lib/python3.7/dist-packages/ipykernel_launcher.py:1: SettingWithCopyWarning: \n",
            "A value is trying to be set on a copy of a slice from a DataFrame.\n",
            "Try using .loc[row_indexer,col_indexer] = value instead\n",
            "\n",
            "See the caveats in the documentation: https://pandas.pydata.org/pandas-docs/stable/user_guide/indexing.html#returning-a-view-versus-a-copy\n",
            "  \"\"\"Entry point for launching an IPython kernel.\n",
            "/usr/local/lib/python3.7/dist-packages/ipykernel_launcher.py:2: SettingWithCopyWarning: \n",
            "A value is trying to be set on a copy of a slice from a DataFrame.\n",
            "Try using .loc[row_indexer,col_indexer] = value instead\n",
            "\n",
            "See the caveats in the documentation: https://pandas.pydata.org/pandas-docs/stable/user_guide/indexing.html#returning-a-view-versus-a-copy\n",
            "  \n"
          ]
        }
      ]
    },
    {
      "cell_type": "code",
      "source": [
        "# run progress bar and clean up using spacy but without some heavy parts of the pipeline\n",
        "clean_text = []\n",
        "\n",
        "pbar = tqdm.tqdm(total=len(data['text_clean']),position=0, leave=True)\n",
        "\n",
        "for text in nlp.pipe(data['text_clean'], disable=[\"tagger\", \"parser\", \"ner\"]):\n",
        "\n",
        "  txt = [token.lemma_.lower() for token in text \n",
        "         if token.is_alpha \n",
        "         and not token.is_stop \n",
        "         and not token.is_punct]\n",
        "\n",
        "  clean_text.append(\" \".join(txt))\n",
        "\n",
        "  pbar.update(1)"
      ],
      "metadata": {
        "id": "VHXjP8PhXnva",
        "colab": {
          "base_uri": "https://localhost:8080/"
        },
        "outputId": "afa6f58c-e804-49b8-ce9e-505f6553ba9c"
      },
      "execution_count": 57,
      "outputs": [
        {
          "output_type": "stream",
          "name": "stderr",
          "text": [
            "100%|██████████| 1634/1634 [1:12:41<00:00,  2.67s/it]\n",
            "/usr/local/lib/python3.7/dist-packages/spacy/pipeline/lemmatizer.py:211: UserWarning: [W108] The rule-based lemmatizer did not find POS annotation for one or more tokens. Check that your pipeline includes components that assign token.pos, typically 'tagger'+'attribute_ruler' or 'morphologizer'.\n",
            "  warnings.warn(Warnings.W108)\n",
            " 99%|█████████▉| 1618/1634 [00:35<00:00, 100.87it/s]"
          ]
        }
      ]
    },
    {
      "cell_type": "code",
      "source": [
        "# write everything into one function that can be re-used later\n",
        "def text_prepro(texts):\n",
        "  \"\"\"\n",
        "  takes in a pandas series (1 column of a DF)\n",
        "  removes twitter stuff\n",
        "  lowercases, normalizes text\n",
        "  \"\"\"\n",
        "  texts_clean = texts.map(lambda t: prepro.clean(t))\n",
        "  texts_clean = texts_clean.str.replace('#','')\n",
        "\n",
        "  clean_container = []\n",
        "\n",
        "  pbar = tqdm.tqdm(total=len(texts_clean),position=0, leave=True)\n",
        "\n",
        "  for text in nlp.pipe(texts_clean, disable=[\"tagger\", \"parser\", \"ner\"]):\n",
        "\n",
        "    txt = [token.lemma_.lower() for token in text \n",
        "          if token.is_alpha \n",
        "          and not token.is_stop \n",
        "          and not token.is_punct]\n",
        "\n",
        "    clean_container.append(\" \".join(txt))\n",
        "    pbar.update(1)\n",
        "  \n",
        "  return clean_container"
      ],
      "metadata": {
        "id": "O3oX-f4yXvao"
      },
      "execution_count": 58,
      "outputs": []
    },
    {
      "cell_type": "code",
      "source": [
        "# apply all prepro-pipeline to texts\n",
        "data['text_clean'] = text_prepro(data['text'])"
      ],
      "metadata": {
        "id": "QibSoHmPX1Eu",
        "colab": {
          "base_uri": "https://localhost:8080/"
        },
        "outputId": "c6b327a4-faad-461a-ef68-64bb2847b529"
      },
      "execution_count": 59,
      "outputs": [
        {
          "output_type": "stream",
          "name": "stderr",
          "text": [
            "100%|██████████| 1634/1634 [00:24<00:00, 66.84it/s] \n",
            "/usr/local/lib/python3.7/dist-packages/ipykernel_launcher.py:2: SettingWithCopyWarning: \n",
            "A value is trying to be set on a copy of a slice from a DataFrame.\n",
            "Try using .loc[row_indexer,col_indexer] = value instead\n",
            "\n",
            "See the caveats in the documentation: https://pandas.pydata.org/pandas-docs/stable/user_guide/indexing.html#returning-a-view-versus-a-copy\n",
            "  \n"
          ]
        }
      ]
    },
    {
      "cell_type": "code",
      "source": [
        "data"
      ],
      "metadata": {
        "id": "61TeEmesX7XY",
        "colab": {
          "base_uri": "https://localhost:8080/",
          "height": 815
        },
        "outputId": "1e8d777a-6235-458b-f19e-50ead5bdf79b"
      },
      "execution_count": 60,
      "outputs": [
        {
          "output_type": "execute_result",
          "data": {
            "text/plain": [
              "                                                Authors  \\\n",
              "0         Chapwanya M., Lubuma J., Terefe Y., Tsanou B.   \n",
              "1     Piat M., Wainwright M., Rivest M.-P., Sofouli ...   \n",
              "2     Velayati F., Ayatollahi H., Hemmat M., Dehghan R.   \n",
              "3     Pastor A.V., Nunes J.P., Ciampalini R., Bahri ...   \n",
              "4     Abdullah H.M., Dakurah T., Akoto H., Abaidoo B...   \n",
              "...                                                 ...   \n",
              "1629           Armeanu D.S., Vintilă G., Gherghina S.C.   \n",
              "1630                 Abaunza F., Hameri A.-P., Niemi T.   \n",
              "1631                                   Zhang Y., Lin Z.   \n",
              "1632  Greening H., Swann R., St. Pé K., Testroet-Ber...   \n",
              "1633  Tohen M., Gold A.K., Sylvia L.G., Montana R.E....   \n",
              "\n",
              "                                           Author(s) ID  \\\n",
              "0       26026788700;6602950766;54783401400;25823549000;   \n",
              "1     6604070039;35090631400;56871264100;18635052000...   \n",
              "2      57219486899;55991128900;57170342800;57365458900;   \n",
              "3     55927118200;7102878032;6506995140;7004276837;5...   \n",
              "4     57887451300;12140148900;57213456448;5623694480...   \n",
              "...                                                 ...   \n",
              "1629               26434149400;26434536500;56046530600;   \n",
              "1630                56060899300;7003735163;57215042589;   \n",
              "1631                           57840767400;54894812400;   \n",
              "1632  6602993313;36025859800;15038078600;57196705444...   \n",
              "1633  7005960357;56937980000;24073745400;57191777872...   \n",
              "\n",
              "                                                  Title  \\\n",
              "0     Analysis of War and Conflict Effect on the Tra...   \n",
              "1     The impacts of implementing recovery innovatio...   \n",
              "2         The 4P telehealth business framework for Iran   \n",
              "3     ScenaLand: a simple methodology for developing...   \n",
              "4     Predictors of recurrence of chronic subdural h...   \n",
              "...                                                 ...   \n",
              "1629  Empirical study towards the drivers of sustain...   \n",
              "1630  EEUI: a new measure to monitor and manage ener...   \n",
              "1631  Predicting the helpfulness of online product r...   \n",
              "1632  Local implementation of a national program: Th...   \n",
              "1633  Corrigendum to bipolar mixed features – Result...   \n",
              "\n",
              "                                               Abstract  Year  \\\n",
              "0     The tenth Ebola outbreak in the Democratic Rep...  2022   \n",
              "1     Background: Implementing mental health recover...  2022   \n",
              "2     Background: Telehealth services can utilize va...  2022   \n",
              "3     Scenarios serve science by testing the sensiti...  2022   \n",
              "4     Background: Chronic subdural haematoma (CSDH) ...  2022   \n",
              "...                                                 ...   ...   \n",
              "1629  This study aims at empirically investigating t...  2018   \n",
              "1630  Purpose: Data centers (DCs) are similar to tra...  2018   \n",
              "1631  Identifying helpful reviews from massive revie...  2018   \n",
              "1632  The US Environmental Protection Agency's Natio...  2018   \n",
              "1633  The authors regret that conflicts of interest ...  2018   \n",
              "\n",
              "                                           Source title  \\\n",
              "0                      Bulletin of Mathematical Biology   \n",
              "1        International Journal of Mental Health Systems   \n",
              "2           BMC Medical Informatics and Decision Making   \n",
              "3     Mitigation and Adaptation Strategies for Globa...   \n",
              "4                                         BMC Neurology   \n",
              "...                                                 ...   \n",
              "1629                       Sustainability (Switzerland)   \n",
              "1630  International Journal of Productivity and Perf...   \n",
              "1631      Electronic Commerce Research and Applications   \n",
              "1632                                      Marine Policy   \n",
              "1633                     Journal of Affective Disorders   \n",
              "\n",
              "                                                   text  \\\n",
              "0     Analysis of War and Conflict Effect on the Tra...   \n",
              "1     The impacts of implementing recovery innovatio...   \n",
              "2     The 4P telehealth business framework for Iran....   \n",
              "3     ScenaLand: a simple methodology for developing...   \n",
              "4     Predictors of recurrence of chronic subdural h...   \n",
              "...                                                 ...   \n",
              "1629  Empirical study towards the drivers of sustain...   \n",
              "1630  EEUI: a new measure to monitor and manage ener...   \n",
              "1631  Predicting the helpfulness of online product r...   \n",
              "1632  Local implementation of a national program: Th...   \n",
              "1633  Corrigendum to bipolar mixed features – Result...   \n",
              "\n",
              "                                             text_clean  \n",
              "0     analysis war conflict effect transmission dyna...  \n",
              "1     impacts implementing recovery innovations conc...  \n",
              "2     p telehealth business framework iran backgroun...  \n",
              "3     scenaland simple methodology developing land u...  \n",
              "4     predictors recurrence chronic subdural haemato...  \n",
              "...                                                 ...  \n",
              "1629  empirical study drivers sustainable economic g...  \n",
              "1630  eeui new measure monitor manage energy efficie...  \n",
              "1631  predicting helpfulness online product reviews ...  \n",
              "1632  local implementation national program national...  \n",
              "1633  corrigendum bipolar mixed features results com...  \n",
              "\n",
              "[1634 rows x 8 columns]"
            ],
            "text/html": [
              "\n",
              "  <div id=\"df-02d09b35-4cea-4b09-826d-e406508b1217\">\n",
              "    <div class=\"colab-df-container\">\n",
              "      <div>\n",
              "<style scoped>\n",
              "    .dataframe tbody tr th:only-of-type {\n",
              "        vertical-align: middle;\n",
              "    }\n",
              "\n",
              "    .dataframe tbody tr th {\n",
              "        vertical-align: top;\n",
              "    }\n",
              "\n",
              "    .dataframe thead th {\n",
              "        text-align: right;\n",
              "    }\n",
              "</style>\n",
              "<table border=\"1\" class=\"dataframe\">\n",
              "  <thead>\n",
              "    <tr style=\"text-align: right;\">\n",
              "      <th></th>\n",
              "      <th>Authors</th>\n",
              "      <th>Author(s) ID</th>\n",
              "      <th>Title</th>\n",
              "      <th>Abstract</th>\n",
              "      <th>Year</th>\n",
              "      <th>Source title</th>\n",
              "      <th>text</th>\n",
              "      <th>text_clean</th>\n",
              "    </tr>\n",
              "  </thead>\n",
              "  <tbody>\n",
              "    <tr>\n",
              "      <th>0</th>\n",
              "      <td>Chapwanya M., Lubuma J., Terefe Y., Tsanou B.</td>\n",
              "      <td>26026788700;6602950766;54783401400;25823549000;</td>\n",
              "      <td>Analysis of War and Conflict Effect on the Tra...</td>\n",
              "      <td>The tenth Ebola outbreak in the Democratic Rep...</td>\n",
              "      <td>2022</td>\n",
              "      <td>Bulletin of Mathematical Biology</td>\n",
              "      <td>Analysis of War and Conflict Effect on the Tra...</td>\n",
              "      <td>analysis war conflict effect transmission dyna...</td>\n",
              "    </tr>\n",
              "    <tr>\n",
              "      <th>1</th>\n",
              "      <td>Piat M., Wainwright M., Rivest M.-P., Sofouli ...</td>\n",
              "      <td>6604070039;35090631400;56871264100;18635052000...</td>\n",
              "      <td>The impacts of implementing recovery innovatio...</td>\n",
              "      <td>Background: Implementing mental health recover...</td>\n",
              "      <td>2022</td>\n",
              "      <td>International Journal of Mental Health Systems</td>\n",
              "      <td>The impacts of implementing recovery innovatio...</td>\n",
              "      <td>impacts implementing recovery innovations conc...</td>\n",
              "    </tr>\n",
              "    <tr>\n",
              "      <th>2</th>\n",
              "      <td>Velayati F., Ayatollahi H., Hemmat M., Dehghan R.</td>\n",
              "      <td>57219486899;55991128900;57170342800;57365458900;</td>\n",
              "      <td>The 4P telehealth business framework for Iran</td>\n",
              "      <td>Background: Telehealth services can utilize va...</td>\n",
              "      <td>2022</td>\n",
              "      <td>BMC Medical Informatics and Decision Making</td>\n",
              "      <td>The 4P telehealth business framework for Iran....</td>\n",
              "      <td>p telehealth business framework iran backgroun...</td>\n",
              "    </tr>\n",
              "    <tr>\n",
              "      <th>3</th>\n",
              "      <td>Pastor A.V., Nunes J.P., Ciampalini R., Bahri ...</td>\n",
              "      <td>55927118200;7102878032;6506995140;7004276837;5...</td>\n",
              "      <td>ScenaLand: a simple methodology for developing...</td>\n",
              "      <td>Scenarios serve science by testing the sensiti...</td>\n",
              "      <td>2022</td>\n",
              "      <td>Mitigation and Adaptation Strategies for Globa...</td>\n",
              "      <td>ScenaLand: a simple methodology for developing...</td>\n",
              "      <td>scenaland simple methodology developing land u...</td>\n",
              "    </tr>\n",
              "    <tr>\n",
              "      <th>4</th>\n",
              "      <td>Abdullah H.M., Dakurah T., Akoto H., Abaidoo B...</td>\n",
              "      <td>57887451300;12140148900;57213456448;5623694480...</td>\n",
              "      <td>Predictors of recurrence of chronic subdural h...</td>\n",
              "      <td>Background: Chronic subdural haematoma (CSDH) ...</td>\n",
              "      <td>2022</td>\n",
              "      <td>BMC Neurology</td>\n",
              "      <td>Predictors of recurrence of chronic subdural h...</td>\n",
              "      <td>predictors recurrence chronic subdural haemato...</td>\n",
              "    </tr>\n",
              "    <tr>\n",
              "      <th>...</th>\n",
              "      <td>...</td>\n",
              "      <td>...</td>\n",
              "      <td>...</td>\n",
              "      <td>...</td>\n",
              "      <td>...</td>\n",
              "      <td>...</td>\n",
              "      <td>...</td>\n",
              "      <td>...</td>\n",
              "    </tr>\n",
              "    <tr>\n",
              "      <th>1629</th>\n",
              "      <td>Armeanu D.S., Vintilă G., Gherghina S.C.</td>\n",
              "      <td>26434149400;26434536500;56046530600;</td>\n",
              "      <td>Empirical study towards the drivers of sustain...</td>\n",
              "      <td>This study aims at empirically investigating t...</td>\n",
              "      <td>2018</td>\n",
              "      <td>Sustainability (Switzerland)</td>\n",
              "      <td>Empirical study towards the drivers of sustain...</td>\n",
              "      <td>empirical study drivers sustainable economic g...</td>\n",
              "    </tr>\n",
              "    <tr>\n",
              "      <th>1630</th>\n",
              "      <td>Abaunza F., Hameri A.-P., Niemi T.</td>\n",
              "      <td>56060899300;7003735163;57215042589;</td>\n",
              "      <td>EEUI: a new measure to monitor and manage ener...</td>\n",
              "      <td>Purpose: Data centers (DCs) are similar to tra...</td>\n",
              "      <td>2018</td>\n",
              "      <td>International Journal of Productivity and Perf...</td>\n",
              "      <td>EEUI: a new measure to monitor and manage ener...</td>\n",
              "      <td>eeui new measure monitor manage energy efficie...</td>\n",
              "    </tr>\n",
              "    <tr>\n",
              "      <th>1631</th>\n",
              "      <td>Zhang Y., Lin Z.</td>\n",
              "      <td>57840767400;54894812400;</td>\n",
              "      <td>Predicting the helpfulness of online product r...</td>\n",
              "      <td>Identifying helpful reviews from massive revie...</td>\n",
              "      <td>2018</td>\n",
              "      <td>Electronic Commerce Research and Applications</td>\n",
              "      <td>Predicting the helpfulness of online product r...</td>\n",
              "      <td>predicting helpfulness online product reviews ...</td>\n",
              "    </tr>\n",
              "    <tr>\n",
              "      <th>1632</th>\n",
              "      <td>Greening H., Swann R., St. Pé K., Testroet-Ber...</td>\n",
              "      <td>6602993313;36025859800;15038078600;57196705444...</td>\n",
              "      <td>Local implementation of a national program: Th...</td>\n",
              "      <td>The US Environmental Protection Agency's Natio...</td>\n",
              "      <td>2018</td>\n",
              "      <td>Marine Policy</td>\n",
              "      <td>Local implementation of a national program: Th...</td>\n",
              "      <td>local implementation national program national...</td>\n",
              "    </tr>\n",
              "    <tr>\n",
              "      <th>1633</th>\n",
              "      <td>Tohen M., Gold A.K., Sylvia L.G., Montana R.E....</td>\n",
              "      <td>7005960357;56937980000;24073745400;57191777872...</td>\n",
              "      <td>Corrigendum to bipolar mixed features – Result...</td>\n",
              "      <td>The authors regret that conflicts of interest ...</td>\n",
              "      <td>2018</td>\n",
              "      <td>Journal of Affective Disorders</td>\n",
              "      <td>Corrigendum to bipolar mixed features – Result...</td>\n",
              "      <td>corrigendum bipolar mixed features results com...</td>\n",
              "    </tr>\n",
              "  </tbody>\n",
              "</table>\n",
              "<p>1634 rows × 8 columns</p>\n",
              "</div>\n",
              "      <button class=\"colab-df-convert\" onclick=\"convertToInteractive('df-02d09b35-4cea-4b09-826d-e406508b1217')\"\n",
              "              title=\"Convert this dataframe to an interactive table.\"\n",
              "              style=\"display:none;\">\n",
              "        \n",
              "  <svg xmlns=\"http://www.w3.org/2000/svg\" height=\"24px\"viewBox=\"0 0 24 24\"\n",
              "       width=\"24px\">\n",
              "    <path d=\"M0 0h24v24H0V0z\" fill=\"none\"/>\n",
              "    <path d=\"M18.56 5.44l.94 2.06.94-2.06 2.06-.94-2.06-.94-.94-2.06-.94 2.06-2.06.94zm-11 1L8.5 8.5l.94-2.06 2.06-.94-2.06-.94L8.5 2.5l-.94 2.06-2.06.94zm10 10l.94 2.06.94-2.06 2.06-.94-2.06-.94-.94-2.06-.94 2.06-2.06.94z\"/><path d=\"M17.41 7.96l-1.37-1.37c-.4-.4-.92-.59-1.43-.59-.52 0-1.04.2-1.43.59L10.3 9.45l-7.72 7.72c-.78.78-.78 2.05 0 2.83L4 21.41c.39.39.9.59 1.41.59.51 0 1.02-.2 1.41-.59l7.78-7.78 2.81-2.81c.8-.78.8-2.07 0-2.86zM5.41 20L4 18.59l7.72-7.72 1.47 1.35L5.41 20z\"/>\n",
              "  </svg>\n",
              "      </button>\n",
              "      \n",
              "  <style>\n",
              "    .colab-df-container {\n",
              "      display:flex;\n",
              "      flex-wrap:wrap;\n",
              "      gap: 12px;\n",
              "    }\n",
              "\n",
              "    .colab-df-convert {\n",
              "      background-color: #E8F0FE;\n",
              "      border: none;\n",
              "      border-radius: 50%;\n",
              "      cursor: pointer;\n",
              "      display: none;\n",
              "      fill: #1967D2;\n",
              "      height: 32px;\n",
              "      padding: 0 0 0 0;\n",
              "      width: 32px;\n",
              "    }\n",
              "\n",
              "    .colab-df-convert:hover {\n",
              "      background-color: #E2EBFA;\n",
              "      box-shadow: 0px 1px 2px rgba(60, 64, 67, 0.3), 0px 1px 3px 1px rgba(60, 64, 67, 0.15);\n",
              "      fill: #174EA6;\n",
              "    }\n",
              "\n",
              "    [theme=dark] .colab-df-convert {\n",
              "      background-color: #3B4455;\n",
              "      fill: #D2E3FC;\n",
              "    }\n",
              "\n",
              "    [theme=dark] .colab-df-convert:hover {\n",
              "      background-color: #434B5C;\n",
              "      box-shadow: 0px 1px 3px 1px rgba(0, 0, 0, 0.15);\n",
              "      filter: drop-shadow(0px 1px 2px rgba(0, 0, 0, 0.3));\n",
              "      fill: #FFFFFF;\n",
              "    }\n",
              "  </style>\n",
              "\n",
              "      <script>\n",
              "        const buttonEl =\n",
              "          document.querySelector('#df-02d09b35-4cea-4b09-826d-e406508b1217 button.colab-df-convert');\n",
              "        buttonEl.style.display =\n",
              "          google.colab.kernel.accessAllowed ? 'block' : 'none';\n",
              "\n",
              "        async function convertToInteractive(key) {\n",
              "          const element = document.querySelector('#df-02d09b35-4cea-4b09-826d-e406508b1217');\n",
              "          const dataTable =\n",
              "            await google.colab.kernel.invokeFunction('convertToInteractive',\n",
              "                                                     [key], {});\n",
              "          if (!dataTable) return;\n",
              "\n",
              "          const docLinkHtml = 'Like what you see? Visit the ' +\n",
              "            '<a target=\"_blank\" href=https://colab.research.google.com/notebooks/data_table.ipynb>data table notebook</a>'\n",
              "            + ' to learn more about interactive tables.';\n",
              "          element.innerHTML = '';\n",
              "          dataTable['output_type'] = 'display_data';\n",
              "          await google.colab.output.renderOutput(dataTable, element);\n",
              "          const docLink = document.createElement('div');\n",
              "          docLink.innerHTML = docLinkHtml;\n",
              "          element.appendChild(docLink);\n",
              "        }\n",
              "      </script>\n",
              "    </div>\n",
              "  </div>\n",
              "  "
            ]
          },
          "metadata": {},
          "execution_count": 60
        }
      ]
    },
    {
      "cell_type": "code",
      "source": [
        "# preprocess texts (we need tokens)\n",
        "tokens = []\n",
        "\n",
        "for summary in nlp.pipe(data['text_clean'], disable=[\"ner\"]):\n",
        "  proj_tok = [token.lemma_.lower() for token in summary \n",
        "              if token.pos_ in ['NOUN', 'PROPN', 'ADJ', 'ADV'] \n",
        "              and not token.is_stop\n",
        "              and not token.is_punct] \n",
        "  tokens.append(proj_tok)"
      ],
      "metadata": {
        "id": "r7vSpPzLX8B4"
      },
      "execution_count": 61,
      "outputs": []
    },
    {
      "cell_type": "code",
      "source": [
        "data['tokens'] = tokens"
      ],
      "metadata": {
        "id": "v7gLF8mUYFrB",
        "colab": {
          "base_uri": "https://localhost:8080/"
        },
        "outputId": "53123bd7-2c1a-49aa-9817-3c02fffaccf5"
      },
      "execution_count": 62,
      "outputs": [
        {
          "output_type": "stream",
          "name": "stderr",
          "text": [
            "/usr/local/lib/python3.7/dist-packages/ipykernel_launcher.py:1: SettingWithCopyWarning: \n",
            "A value is trying to be set on a copy of a slice from a DataFrame.\n",
            "Try using .loc[row_indexer,col_indexer] = value instead\n",
            "\n",
            "See the caveats in the documentation: https://pandas.pydata.org/pandas-docs/stable/user_guide/indexing.html#returning-a-view-versus-a-copy\n",
            "  \"\"\"Entry point for launching an IPython kernel.\n"
          ]
        }
      ]
    },
    {
      "cell_type": "code",
      "source": [
        "# Create a Dictionary from the articles: dictionary\n",
        "dictionary = Dictionary(data['tokens'])\n",
        "# filter out low-frequency / high-frequency stuff, also limit the vocabulary to max 1000 words\n",
        "dictionary.filter_extremes(no_below=3, no_above=0.2, keep_n=1000)\n",
        "# construct corpus using this dictionary\n",
        "corpus = [dictionary.doc2bow(doc) for doc in data['tokens']]"
      ],
      "metadata": {
        "id": "0nQaMXGoYIRi"
      },
      "execution_count": 63,
      "outputs": []
    },
    {
      "cell_type": "code",
      "source": [
        "dictionary.id2token"
      ],
      "metadata": {
        "colab": {
          "base_uri": "https://localhost:8080/"
        },
        "id": "qgm2lhSewDtd",
        "outputId": "4bd44ffc-edf1-4661-c245-714c58cd34a7"
      },
      "execution_count": 64,
      "outputs": [
        {
          "output_type": "execute_result",
          "data": {
            "text/plain": [
              "{}"
            ]
          },
          "metadata": {},
          "execution_count": 64
        }
      ]
    },
    {
      "cell_type": "code",
      "source": [
        "corpus[1]"
      ],
      "metadata": {
        "id": "ZsLKsbV1YKVF",
        "colab": {
          "base_uri": "https://localhost:8080/"
        },
        "outputId": "ed29baf0-995d-4713-9fb3-1f5816c6b1d8"
      },
      "execution_count": 65,
      "outputs": [
        {
          "output_type": "execute_result",
          "data": {
            "text/plain": [
              "[(22, 1),\n",
              " (23, 3),\n",
              " (26, 9),\n",
              " (28, 1),\n",
              " (49, 2),\n",
              " (53, 1),\n",
              " (54, 1),\n",
              " (55, 1),\n",
              " (56, 1),\n",
              " (57, 1),\n",
              " (58, 1),\n",
              " (59, 1),\n",
              " (60, 2),\n",
              " (61, 1),\n",
              " (62, 1),\n",
              " (63, 1),\n",
              " (64, 1),\n",
              " (65, 1),\n",
              " (66, 2),\n",
              " (67, 5),\n",
              " (68, 1),\n",
              " (69, 1),\n",
              " (70, 1),\n",
              " (71, 3),\n",
              " (72, 4),\n",
              " (73, 7),\n",
              " (74, 2),\n",
              " (75, 1),\n",
              " (76, 1),\n",
              " (77, 1),\n",
              " (78, 1),\n",
              " (79, 2),\n",
              " (80, 3),\n",
              " (81, 1),\n",
              " (82, 1),\n",
              " (83, 3),\n",
              " (84, 1),\n",
              " (85, 1),\n",
              " (86, 1),\n",
              " (87, 1),\n",
              " (88, 1),\n",
              " (89, 1),\n",
              " (90, 2),\n",
              " (91, 1),\n",
              " (92, 1),\n",
              " (93, 1),\n",
              " (94, 1),\n",
              " (95, 2),\n",
              " (96, 2),\n",
              " (97, 2),\n",
              " (98, 1),\n",
              " (99, 1),\n",
              " (100, 1),\n",
              " (101, 8),\n",
              " (102, 1),\n",
              " (103, 1),\n",
              " (104, 2),\n",
              " (105, 3),\n",
              " (106, 1),\n",
              " (107, 1),\n",
              " (108, 3),\n",
              " (109, 1),\n",
              " (110, 1),\n",
              " (111, 3),\n",
              " (112, 1),\n",
              " (113, 1)]"
            ]
          },
          "metadata": {},
          "execution_count": 65
        }
      ]
    },
    {
      "cell_type": "code",
      "source": [
        "# Training the model\n",
        "lda_model = LdaMulticore(corpus, id2word=dictionary, num_topics=5, workers = 4, passes=10)"
      ],
      "metadata": {
        "id": "UKBTx56vYQrw"
      },
      "execution_count": 66,
      "outputs": []
    },
    {
      "cell_type": "code",
      "source": [
        "# Let's try to visualize\n",
        "lda_display = pyLDAvis.gensim_models.prepare(lda_model, corpus, dictionary)"
      ],
      "metadata": {
        "id": "wIIqt0TAYYNK",
        "colab": {
          "base_uri": "https://localhost:8080/"
        },
        "outputId": "13f1e531-7b8f-4608-927d-acf54de7fdf1"
      },
      "execution_count": 67,
      "outputs": [
        {
          "output_type": "stream",
          "name": "stderr",
          "text": [
            "/usr/local/lib/python3.7/dist-packages/pyLDAvis/_prepare.py:247: FutureWarning: In a future version of pandas all arguments of DataFrame.drop except for the argument 'labels' will be keyword-only\n",
            "  by='saliency', ascending=False).head(R).drop('saliency', 1)\n"
          ]
        }
      ]
    },
    {
      "cell_type": "code",
      "source": [
        " # Let's Visualize\n",
        "pyLDAvis.display(lda_display)"
      ],
      "metadata": {
        "id": "9fFxA_KiYeJ3",
        "colab": {
          "base_uri": "https://localhost:8080/",
          "height": 862
        },
        "outputId": "1057115b-55c9-4eb4-9a12-e1de7c6f0a18"
      },
      "execution_count": 68,
      "outputs": [
        {
          "output_type": "execute_result",
          "data": {
            "text/plain": [
              "<IPython.core.display.HTML object>"
            ],
            "text/html": [
              "\n",
              "<link rel=\"stylesheet\" type=\"text/css\" href=\"https://cdn.jsdelivr.net/gh/bmabey/pyLDAvis@3.3.1/pyLDAvis/js/ldavis.v1.0.0.css\">\n",
              "\n",
              "\n",
              "<div id=\"ldavis_el11841403834347458082581001119\"></div>\n",
              "<script type=\"text/javascript\">\n",
              "\n",
              "var ldavis_el11841403834347458082581001119_data = {\"mdsDat\": {\"x\": [-0.06191744739157255, 0.09444600110988176, 0.10005712123962177, -0.06060821433415066, -0.07197746062378037], \"y\": [-0.017029102025969304, -0.038567813022278595, 0.04419748131393938, -0.08915219576213504, 0.10055162949644351], \"topics\": [1, 2, 3, 4, 5], \"cluster\": [1, 1, 1, 1, 1], \"Freq\": [25.956839673559728, 21.876496683845918, 18.577439643493506, 17.54131102759216, 16.04791297150869]}, \"tinfo\": {\"Term\": [\"health\", \"analytic\", \"student\", \"big\", \"innovation\", \"care\", \"intelligence\", \"chain\", \"bibliometric\", \"supply\", \"patient\", \"machine\", \"journal\", \"mining\", \"publication\", \"hospital\", \"firm\", \"university\", \"tourism\", \"financial\", \"artificial\", \"digital\", \"education\", \"academic\", \"healthcare\", \"e\", \"p\", \"entrepreneurship\", \"smart\", \"performance\", \"park\", \"green\", \"venture\", \"emission\", \"square\", \"agricultural\", \"food\", \"firm\", \"innovation\", \"environmental\", \"south\", \"indonesia\", \"regional\", \"carbon\", \"cooperation\", \"africa\", \"competitiveness\", \"sme\", \"positively\", \"intention\", \"investment\", \"iop\", \"employee\", \"equation\", \"organisational\", \"partner\", \"young\", \"dimension\", \"rural\", \"questionnaire\", \"corporate\", \"sustainable\", \"responsibility\", \"strategic\", \"company\", \"enterprise\", \"positive\", \"government\", \"performance\", \"survey\", \"factor\", \"influence\", \"strategy\", \"university\", \"relationship\", \"policy\", \"economic\", \"impact\", \"role\", \"effect\", \"activity\", \"country\", \"sustainability\", \"sector\", \"environment\", \"education\", \"service\", \"market\", \"level\", \"statistical\", \"supply\", \"chain\", \"commerce\", \"mining\", \"proceeding\", \"e\", \"usually\", \"analytic\", \"leverage\", \"event\", \"cognitive\", \"semantic\", \"disruption\", \"execution\", \"modelling\", \"conference\", \"forecasting\", \"architecture\", \"bridge\", \"big\", \"visual\", \"predictive\", \"gain\", \"operational\", \"capability\", \"aware\", \"customer\", \"discovery\", \"series\", \"mathematical\", \"domain\", \"organizational\", \"insight\", \"modeling\", \"operation\", \"technique\", \"real\", \"tool\", \"case\", \"marketing\", \"network\", \"digital\", \"organization\", \"theory\", \"time\", \"product\", \"performance\", \"problem\", \"framework\", \"service\", \"intelligence\", \"strategy\", \"company\", \"iot\", \"privacy\", \"blockchain\", \"ml\", \"petroleum\", \"oil\", \"intelligent\", \"machine\", \"thing\", \"water\", \"artificial\", \"gas\", \"engineer\", \"internet\", \"cloud\", \"storage\", \"equipment\", \"smart\", \"digitalization\", \"asset\", \"ai\", \"revolution\", \"device\", \"intelligence\", \"computing\", \"healthcare\", \"prediction\", \"rapid\", \"reliable\", \"security\", \"dataset\", \"learning\", \"project\", \"user\", \"digital\", \"solution\", \"challenge\", \"big\", \"framework\", \"human\", \"benefit\", \"program\", \"work\", \"time\", \"service\", \"support\", \"way\", \"health\", \"use\", \"tool\", \"implementation\", \"analytic\", \"organization\", \"network\", \"bibliometric\", \"vosviewer\", \"citation\", \"career\", \"student\", \"undergraduate\", \"wos\", \"tourism\", \"curriculum\", \"bibliographic\", \"intellectual\", \"publication\", \"graduate\", \"scholarly\", \"keyword\", \"master\", \"sentiment\", \"family\", \"job\", \"academic\", \"course\", \"influential\", \"co\", \"scopus\", \"journal\", \"political\", \"cluster\", \"school\", \"thematic\", \"theme\", \"degree\", \"skill\", \"educational\", \"institution\", \"topic\", \"education\", \"document\", \"trend\", \"scientific\", \"university\", \"web\", \"entrepreneurial\", \"entrepreneurship\", \"researcher\", \"area\", \"program\", \"energy\", \"country\", \"sustainability\", \"year\", \"database\", \"economic\", \"implication\", \"term\", \"hospital\", \"pubmed\", \"medline\", \"embase\", \"cinahl\", \"p\", \"disease\", \"mental\", \"english\", \"banking\", \"january\", \"intervention\", \"care\", \"income\", \"bank\", \"panel\", \"health\", \"patient\", \"trial\", \"reporting\", \"prevention\", \"finance\", \"n\", \"protocol\", \"home\", \"inclusion\", \"meta\", \"age\", \"stock\", \"american\", \"population\", \"medium\", \"financial\", \"evidence\", \"conclusion\", \"medical\", \"search\", \"pandemic\", \"public\", \"systematic\", \"outcome\", \"service\", \"association\", \"clinical\", \"factor\", \"quality\", \"background\", \"group\", \"year\", \"impact\", \"level\", \"effect\", \"database\", \"case\", \"performance\"], \"Freq\": [687.0, 675.0, 465.0, 682.0, 749.0, 283.0, 400.0, 301.0, 209.0, 264.0, 257.0, 327.0, 311.0, 259.0, 257.0, 144.0, 349.0, 454.0, 185.0, 367.0, 215.0, 548.0, 418.0, 257.0, 276.0, 248.0, 137.0, 257.0, 228.0, 730.0, 105.84791572063108, 97.46333093365864, 56.34995266778601, 54.051008582794836, 24.33967994457307, 50.589581075016284, 150.64708525348075, 291.16995134324094, 624.0829154174041, 228.2669200731081, 58.874961144718625, 63.459442716940764, 80.85411664784525, 63.67549493301532, 46.67808470470546, 48.29244712024847, 45.23922964131133, 135.45331067923067, 34.4722192059082, 80.15036265393294, 125.8126050147214, 27.86785814296098, 141.45720809027424, 34.213726450778005, 52.89626526315539, 50.020064148519324, 51.18030629475413, 91.6687653308282, 45.365565781154366, 131.61654633931371, 104.5382232007936, 210.08443914487583, 68.59124744509509, 163.31246719429367, 339.0113441236333, 212.3799853861774, 117.17751052330141, 136.50458230165947, 392.88563746019827, 170.486126188777, 228.10457637118475, 112.65046722315762, 263.2738804900878, 221.95840067150672, 204.65752501977607, 176.56990201179468, 228.81754184063828, 232.9872880185446, 192.7075311801712, 175.70191548442156, 182.60571793838375, 181.80225280135437, 142.2999828227782, 153.54448439596894, 156.14550123330167, 161.72487691271593, 189.40741399184444, 151.8175038218031, 156.70308977802424, 137.0795809457705, 246.7728269347956, 274.1105552831631, 96.91767322473578, 231.46234339627534, 53.984243686236304, 206.042938792799, 21.114012429503063, 553.2737946167679, 20.678173037575757, 93.83681502103249, 45.52536585579223, 27.949215959687, 28.62781767806731, 19.875586715776908, 43.74702082044545, 92.68793294202544, 39.08168771920732, 63.42079513943631, 16.075622426485136, 444.7811758299926, 35.6313010646519, 65.80538774087535, 20.71488075121115, 67.32838655469523, 113.13578912105042, 28.04470763693846, 202.03930199160197, 25.908698512910743, 37.45752748189666, 20.390077254353173, 108.73614678852151, 143.35508668831855, 150.6738696812567, 48.173157536850574, 144.03889384513323, 188.36332035367528, 107.65169679012428, 175.5758219814631, 213.67505168879393, 149.45333423751813, 179.5485203097937, 213.9372558231169, 181.64932567372813, 119.04923639608134, 158.6712918832675, 133.10539672537988, 213.40901773605498, 121.71834297767622, 143.46257538711404, 177.425162852476, 122.12917175197356, 129.6417758564337, 123.5430784189262, 77.1941182776327, 75.32681710347596, 62.01389985257469, 51.75818757698878, 51.86667812884241, 76.46760872569841, 58.13315117982743, 253.04242272867532, 78.76203450860655, 91.48824563066871, 162.54718646602916, 83.36731394399017, 46.081276184943576, 115.55562312210392, 115.99301392483659, 39.37714294159374, 39.75569170167658, 159.43039740207726, 52.81645780789612, 56.771249445535986, 34.72861912326133, 38.78751760874087, 44.06547764956345, 265.63161738583665, 77.5542138479138, 174.36511370837414, 82.29494728833183, 47.97561428218076, 22.713496221191633, 91.50327267414893, 48.34480052804834, 187.55080558300463, 186.86822123508946, 143.73858847360802, 224.88017588887962, 103.54795741485125, 118.1920365940199, 205.85783926432353, 148.07285214306998, 114.14917413864278, 103.84990890652945, 113.64703186432976, 116.5460757376178, 118.2308874769681, 144.18821446363324, 106.3814857296023, 95.10413041709377, 115.97362766730897, 97.2174186113495, 96.14006579849988, 92.01002885816156, 97.85087608634856, 93.76160024635001, 92.86295561747019, 203.71130430698605, 28.162312303689568, 110.19808794191196, 51.86918407403992, 417.11544417457753, 46.736550359282916, 29.301263215352584, 161.02734995843437, 53.7069006173326, 31.40520492966492, 40.459376643768444, 205.39403404536927, 51.38395309456105, 31.311478426075304, 39.51716768048962, 41.28487839703622, 33.244954079210814, 81.55465611940134, 114.51944120995098, 184.86381367377064, 73.78144720300023, 25.179059111977157, 53.72983970041779, 93.32876948773465, 210.22565241722992, 51.28757194708214, 51.41212284356748, 97.73707853000104, 25.202407491202074, 64.88974061988455, 71.04630840622652, 141.22042292555054, 78.30198663422395, 100.09991508333908, 136.44234141372903, 198.0059843584879, 86.89895374858575, 116.9004625364122, 143.65511985650505, 183.53754618697496, 119.85103909676606, 101.31695368620208, 115.85983288217855, 121.93627574625218, 169.62201391485738, 122.93462534049293, 102.82160954250622, 139.20453075424575, 107.63906673041389, 120.05344875610206, 103.18568423981115, 116.95126150588958, 100.41633568546058, 93.5408265114488, 136.1076757312338, 25.541655566801246, 31.883999214121825, 23.678143454392387, 24.442030488215853, 123.98934765874876, 90.24865259664125, 41.5016361916973, 47.23448267525623, 64.85711985913784, 32.71329234576386, 103.9757629296014, 224.55388122868004, 49.95598308089496, 79.72357027130919, 65.25854748385139, 519.4001614129571, 191.5524314102032, 30.717125403852997, 22.33353269331245, 23.605212386818, 83.72204767837266, 32.25626414328184, 40.53639645294852, 49.474795430953996, 29.142966043300227, 33.62497300120983, 59.99772413829015, 24.00057053213053, 30.336933552658955, 91.85537009172931, 171.22029738503332, 175.0585608450775, 112.72959811468105, 104.76755814476272, 106.54069234518442, 90.60663552669484, 77.45848879312024, 119.20124980990293, 106.05785034428787, 85.02396687642971, 181.4938591300424, 74.40140054593934, 61.753214749236584, 127.13258908791897, 117.89873826112009, 72.41396231508062, 92.46824153908965, 101.33953141093991, 117.66891464166743, 101.6068254448753, 93.48094972635712, 79.74404021996179, 81.11647454084734, 79.00930530400034], \"Total\": [687.0, 675.0, 465.0, 682.0, 749.0, 283.0, 400.0, 301.0, 209.0, 264.0, 257.0, 327.0, 311.0, 259.0, 257.0, 144.0, 349.0, 454.0, 185.0, 367.0, 215.0, 548.0, 418.0, 257.0, 276.0, 248.0, 137.0, 257.0, 228.0, 730.0, 107.10406912451509, 104.97070449960613, 62.98917997515887, 60.95585923938815, 27.963315350861638, 59.94277529999492, 180.63485810714974, 349.396208096963, 749.7443975425917, 275.5370549164535, 71.82530210827446, 77.85217442894503, 99.79099334957499, 78.89989580902456, 58.92646270080077, 61.79397788053782, 58.836451563831154, 176.35489773658728, 45.82094501480494, 107.60283758860945, 171.1143305584763, 37.95784096904504, 193.1122000164338, 46.86307506783492, 72.66120638959953, 68.93557805086849, 70.74022512012935, 128.50244411690068, 64.71785223170873, 189.11728638976678, 150.53366391102404, 309.0377134840694, 99.79905261646329, 256.6133541091049, 579.1445605871631, 346.97917486189516, 180.06476405965498, 214.6552423080352, 730.8077879797993, 294.30272808331927, 460.20434392382595, 184.8662488120008, 568.4119763207138, 454.7019825220433, 408.5653451176324, 335.92473137900174, 492.4314063314625, 532.5199513675789, 411.3875414539244, 363.1047022094025, 399.4989643390161, 422.3152046012581, 279.59811031997003, 344.46975546352274, 366.55637607158087, 418.26733725718606, 704.164078790205, 343.7265241901948, 474.71280059843747, 263.92049030262655, 264.4233695268169, 301.8129258254634, 107.7912090242719, 259.66792197959677, 61.74484682630043, 248.03104896599496, 25.47262644746704, 675.9238385954834, 27.501945930794406, 127.74072366729644, 62.84723600522459, 39.2575746987499, 40.34313259782459, 28.555977959305043, 62.94907195839347, 134.55807216372722, 56.94131569541533, 92.47992437041975, 23.604302676845343, 682.0318540764906, 54.96640436953134, 102.62159457613511, 32.39798140500788, 108.4654597591588, 183.50690833405406, 46.24239396337894, 333.6311411116985, 43.43817438181824, 63.06948693544888, 34.42760296245663, 184.313117430288, 245.47257630087284, 268.01877886243676, 81.81991571164865, 263.91344100678066, 372.1273536951093, 209.75652301457487, 386.36286700351525, 513.335247924442, 337.73935956450526, 428.0252624315366, 548.9391287447132, 471.6331966790635, 277.9898057273259, 424.63078869495524, 330.6227028479575, 730.8077879797993, 300.85011884456253, 439.6943736966322, 704.164078790205, 400.8261375246399, 568.4119763207138, 579.1445605871631, 80.43975983503056, 81.37253322256365, 68.27451086671225, 57.21979409308058, 61.2084969833138, 96.25116309638669, 75.00601639912033, 327.1623387130557, 102.05642035500057, 121.49142407185474, 215.94075646323864, 111.98248221926053, 62.09371156577594, 157.0319959190657, 161.78806710219482, 54.947634147397714, 55.999107023366896, 228.76804392175998, 75.88668600224958, 82.01129594017438, 50.88607841850322, 57.87528499748823, 65.82059399857232, 400.8261375246399, 119.64618529940216, 276.36060322669744, 131.48130916174898, 77.82824631769779, 36.85988615726408, 150.6644082947534, 79.66729202772386, 338.0212795127173, 354.52873639770536, 265.6239863201904, 548.9391287447132, 238.16131860535208, 291.105413357988, 682.0318540764906, 439.6943736966322, 296.52141796610584, 258.1651860900295, 315.6467687024229, 378.07338489136424, 424.63078869495524, 704.164078790205, 360.70198420290444, 250.60151655278761, 687.4348786082974, 313.03974905131486, 386.36286700351525, 329.47219638638194, 675.9238385954834, 471.6331966790635, 428.0252624315366, 209.7268928391814, 29.67791185006893, 120.64604695495817, 57.431734025502024, 465.0714694399741, 52.463315826021685, 33.612739423322324, 185.10957208014074, 62.31918913879428, 37.560560782329425, 50.40050476696377, 257.0092667189487, 66.40866365604185, 40.53931621537515, 52.39489361857756, 56.38595086858605, 45.50138669254792, 112.52879755849004, 158.6151689619936, 257.32135556356434, 103.08527840980022, 35.73735450827566, 77.21023317084232, 137.1987765456492, 311.1018358918862, 76.3589083962706, 78.40778237323273, 149.66809811539824, 38.6251021962613, 100.83428055687202, 110.88010678253409, 227.21011530807414, 127.03033435094657, 173.5903073745845, 256.43214519815206, 418.26733725718606, 149.68097162215034, 225.62389503318838, 308.40707686319, 454.7019825220433, 252.49440734056878, 207.98478166588887, 257.7886148409013, 280.6529266790278, 509.72873883464956, 315.6467687024229, 229.43629141729826, 422.3152046012581, 279.59811031997003, 360.0850975872979, 263.7487291410855, 492.4314063314625, 307.7781869557958, 290.9005777311964, 144.1162675940452, 27.44657901272147, 34.31206179574631, 25.49041654853379, 26.464662842906932, 137.3426468169147, 104.1288637591167, 49.08986127194403, 55.9143539106165, 77.44059528353912, 39.30044026069231, 125.68878942780785, 283.5267118549378, 63.9230347768013, 102.33038221224326, 84.55655775835697, 687.4348786082974, 257.2750230353911, 41.369114888859215, 30.517773461265413, 32.50847674806303, 117.25558362248438, 45.29850762376586, 57.08379154043553, 69.85914647986058, 41.28267511656696, 50.16784854082384, 95.70411371409679, 38.30988702744998, 49.384629107238865, 157.02294477857833, 338.00619652500194, 367.6894242438556, 217.23430937609749, 204.60242435030776, 217.03616952896098, 191.13561129371786, 161.31009035185764, 310.43568931854185, 274.89281557804765, 192.63092349364302, 704.164078790205, 161.0536957759819, 116.99778803658455, 460.20434392382595, 424.0170677175719, 159.08962303362978, 273.2239068865891, 360.0850975872979, 532.5199513675789, 474.71280059843747, 363.1047022094025, 263.7487291410855, 513.335247924442, 730.8077879797993], \"Category\": [\"Default\", \"Default\", \"Default\", \"Default\", \"Default\", \"Default\", \"Default\", \"Default\", \"Default\", \"Default\", \"Default\", \"Default\", \"Default\", \"Default\", \"Default\", \"Default\", \"Default\", \"Default\", \"Default\", \"Default\", \"Default\", \"Default\", \"Default\", \"Default\", \"Default\", \"Default\", \"Default\", \"Default\", \"Default\", \"Default\", \"Topic1\", \"Topic1\", \"Topic1\", \"Topic1\", \"Topic1\", \"Topic1\", \"Topic1\", \"Topic1\", \"Topic1\", \"Topic1\", \"Topic1\", \"Topic1\", \"Topic1\", \"Topic1\", \"Topic1\", \"Topic1\", \"Topic1\", \"Topic1\", \"Topic1\", \"Topic1\", \"Topic1\", \"Topic1\", \"Topic1\", \"Topic1\", \"Topic1\", \"Topic1\", \"Topic1\", \"Topic1\", \"Topic1\", \"Topic1\", \"Topic1\", \"Topic1\", \"Topic1\", \"Topic1\", \"Topic1\", \"Topic1\", \"Topic1\", \"Topic1\", \"Topic1\", \"Topic1\", \"Topic1\", \"Topic1\", \"Topic1\", \"Topic1\", \"Topic1\", \"Topic1\", \"Topic1\", \"Topic1\", \"Topic1\", \"Topic1\", \"Topic1\", \"Topic1\", \"Topic1\", \"Topic1\", \"Topic1\", \"Topic1\", \"Topic1\", \"Topic1\", \"Topic1\", \"Topic1\", \"Topic2\", \"Topic2\", \"Topic2\", \"Topic2\", \"Topic2\", \"Topic2\", \"Topic2\", \"Topic2\", \"Topic2\", \"Topic2\", \"Topic2\", \"Topic2\", \"Topic2\", \"Topic2\", \"Topic2\", \"Topic2\", \"Topic2\", \"Topic2\", \"Topic2\", \"Topic2\", \"Topic2\", \"Topic2\", \"Topic2\", \"Topic2\", \"Topic2\", \"Topic2\", \"Topic2\", \"Topic2\", \"Topic2\", \"Topic2\", \"Topic2\", \"Topic2\", \"Topic2\", \"Topic2\", \"Topic2\", \"Topic2\", \"Topic2\", \"Topic2\", \"Topic2\", \"Topic2\", \"Topic2\", \"Topic2\", \"Topic2\", \"Topic2\", \"Topic2\", \"Topic2\", \"Topic2\", \"Topic2\", \"Topic2\", \"Topic2\", \"Topic2\", \"Topic2\", \"Topic2\", \"Topic3\", \"Topic3\", \"Topic3\", \"Topic3\", \"Topic3\", \"Topic3\", \"Topic3\", \"Topic3\", \"Topic3\", \"Topic3\", \"Topic3\", \"Topic3\", \"Topic3\", \"Topic3\", \"Topic3\", \"Topic3\", \"Topic3\", \"Topic3\", \"Topic3\", \"Topic3\", \"Topic3\", \"Topic3\", \"Topic3\", \"Topic3\", \"Topic3\", \"Topic3\", \"Topic3\", \"Topic3\", \"Topic3\", \"Topic3\", \"Topic3\", \"Topic3\", \"Topic3\", \"Topic3\", \"Topic3\", \"Topic3\", \"Topic3\", \"Topic3\", \"Topic3\", \"Topic3\", \"Topic3\", \"Topic3\", \"Topic3\", \"Topic3\", \"Topic3\", \"Topic3\", \"Topic3\", \"Topic3\", \"Topic3\", \"Topic3\", \"Topic3\", \"Topic3\", \"Topic3\", \"Topic3\", \"Topic4\", \"Topic4\", \"Topic4\", \"Topic4\", \"Topic4\", \"Topic4\", \"Topic4\", \"Topic4\", \"Topic4\", \"Topic4\", \"Topic4\", \"Topic4\", \"Topic4\", \"Topic4\", \"Topic4\", \"Topic4\", \"Topic4\", \"Topic4\", \"Topic4\", \"Topic4\", \"Topic4\", \"Topic4\", \"Topic4\", \"Topic4\", \"Topic4\", \"Topic4\", \"Topic4\", \"Topic4\", \"Topic4\", \"Topic4\", \"Topic4\", \"Topic4\", \"Topic4\", \"Topic4\", \"Topic4\", \"Topic4\", \"Topic4\", \"Topic4\", \"Topic4\", \"Topic4\", \"Topic4\", \"Topic4\", \"Topic4\", \"Topic4\", \"Topic4\", \"Topic4\", \"Topic4\", \"Topic4\", \"Topic4\", \"Topic4\", \"Topic4\", \"Topic4\", \"Topic4\", \"Topic4\", \"Topic5\", \"Topic5\", \"Topic5\", \"Topic5\", \"Topic5\", \"Topic5\", \"Topic5\", \"Topic5\", \"Topic5\", \"Topic5\", \"Topic5\", \"Topic5\", \"Topic5\", \"Topic5\", \"Topic5\", \"Topic5\", \"Topic5\", \"Topic5\", \"Topic5\", \"Topic5\", \"Topic5\", \"Topic5\", \"Topic5\", \"Topic5\", \"Topic5\", \"Topic5\", \"Topic5\", \"Topic5\", \"Topic5\", \"Topic5\", \"Topic5\", \"Topic5\", \"Topic5\", \"Topic5\", \"Topic5\", \"Topic5\", \"Topic5\", \"Topic5\", \"Topic5\", \"Topic5\", \"Topic5\", \"Topic5\", \"Topic5\", \"Topic5\", \"Topic5\", \"Topic5\", \"Topic5\", \"Topic5\", \"Topic5\", \"Topic5\", \"Topic5\", \"Topic5\", \"Topic5\", \"Topic5\", \"Topic5\"], \"logprob\": [30.0, 29.0, 28.0, 27.0, 26.0, 25.0, 24.0, 23.0, 22.0, 21.0, 20.0, 19.0, 18.0, 17.0, 16.0, 15.0, 14.0, 13.0, 12.0, 11.0, 10.0, 9.0, 8.0, 7.0, 6.0, 5.0, 4.0, 3.0, 2.0, 1.0, -5.6265, -5.709, -6.2569, -6.2986, -7.0964, -6.3648, -5.2736, -4.6146, -3.8522, -4.858, -6.2131, -6.1381, -5.8959, -6.1347, -6.4452, -6.4112, -6.4765, -5.3799, -6.7484, -5.9046, -5.4537, -6.961, -5.3365, -6.7559, -6.3202, -6.3761, -6.3532, -5.7703, -6.4738, -5.4086, -5.639, -4.941, -6.0603, -5.1928, -4.4625, -4.9301, -5.5248, -5.3722, -4.315, -5.1499, -4.8587, -5.5642, -4.7153, -4.886, -4.9672, -5.1148, -4.8556, -4.8375, -5.0273, -5.1197, -5.0812, -5.0856, -5.3306, -5.2545, -5.2377, -5.2026, -5.0446, -5.2658, -5.2342, -5.368, -4.609, -4.504, -5.5436, -4.6731, -6.1288, -4.7894, -7.0676, -3.8016, -7.0884, -5.5759, -6.2992, -6.7871, -6.7631, -7.128, -6.3391, -5.5883, -6.4518, -5.9677, -7.3402, -4.0199, -6.5443, -5.9308, -7.0866, -5.9079, -5.3889, -6.7837, -4.809, -6.8629, -6.4943, -7.1024, -5.4286, -5.1522, -5.1024, -6.2427, -5.1474, -4.8791, -5.4386, -4.9494, -4.753, -5.1105, -4.927, -4.7518, -4.9154, -5.338, -5.0507, -5.2263, -4.7543, -5.3158, -5.1514, -4.9389, -5.3124, -5.2527, -5.3009, -5.6077, -5.6322, -5.8267, -6.0074, -6.0053, -5.6172, -5.8913, -4.4205, -5.5876, -5.4378, -4.8631, -5.5308, -6.1236, -5.2043, -5.2005, -6.2808, -6.2713, -4.8824, -5.9872, -5.915, -6.4065, -6.2959, -6.1683, -4.3719, -5.603, -4.7929, -5.5437, -6.0833, -6.8311, -5.4377, -6.0757, -4.72, -4.7236, -4.986, -4.5385, -5.314, -5.1817, -4.6268, -4.9563, -5.2165, -5.3111, -5.2209, -5.1957, -5.1814, -4.9829, -5.287, -5.3991, -5.2007, -5.3771, -5.3882, -5.4321, -5.3706, -5.4133, -5.4229, -4.5799, -6.5587, -5.1944, -5.9479, -3.8633, -6.0521, -6.519, -4.8151, -5.9131, -6.4497, -6.1963, -4.5717, -5.9573, -6.4527, -6.2199, -6.1761, -6.3927, -5.4954, -5.1559, -4.677, -5.5955, -6.6706, -5.9127, -5.3605, -4.5485, -5.9592, -5.9568, -5.3144, -6.6697, -5.7239, -5.6333, -4.9463, -5.5361, -5.2905, -4.9807, -4.6083, -5.4319, -5.1353, -4.9292, -4.6842, -5.1104, -5.2784, -5.1443, -5.0931, -4.7631, -5.085, -5.2636, -4.9607, -5.2179, -5.1087, -5.2601, -5.1349, -5.2873, -5.3582, -4.8942, -6.5673, -6.3456, -6.6431, -6.6114, -4.9875, -5.3051, -6.0819, -5.9525, -5.6355, -6.3199, -5.1635, -4.3935, -5.8965, -5.4291, -5.6293, -3.555, -4.5525, -6.3828, -6.7016, -6.6462, -5.3802, -6.3339, -6.1055, -5.9062, -6.4354, -6.2924, -5.7133, -6.6296, -6.3953, -5.2874, -4.6647, -4.6425, -5.0827, -5.1559, -5.1391, -5.3011, -5.4579, -5.0268, -5.1437, -5.3647, -4.6064, -5.4982, -5.6845, -4.9624, -5.0378, -5.5253, -5.2808, -5.1892, -5.0398, -5.1865, -5.2699, -5.4288, -5.4118, -5.4381], \"loglift\": [30.0, 29.0, 28.0, 27.0, 26.0, 25.0, 24.0, 23.0, 22.0, 21.0, 20.0, 19.0, 18.0, 17.0, 16.0, 15.0, 14.0, 13.0, 12.0, 11.0, 10.0, 9.0, 8.0, 7.0, 6.0, 5.0, 4.0, 3.0, 2.0, 1.0, 1.3369, 1.2745, 1.2374, 1.2285, 1.2099, 1.1791, 1.1672, 1.1664, 1.1653, 1.1605, 1.1499, 1.1443, 1.1383, 1.1344, 1.1157, 1.1022, 1.0859, 1.0849, 1.0641, 1.0542, 1.0412, 1.0397, 1.0375, 1.0341, 1.0313, 1.028, 1.0251, 1.011, 0.9935, 0.9863, 0.9841, 0.9628, 0.9737, 0.8968, 0.8132, 0.8578, 0.9191, 0.8961, 0.7281, 0.8028, 0.6469, 0.8534, 0.5791, 0.6316, 0.6574, 0.7056, 0.5823, 0.5221, 0.5904, 0.6228, 0.5659, 0.5059, 0.6733, 0.5407, 0.4954, 0.3985, 0.0356, 0.5316, 0.2404, 0.6936, 1.4507, 1.4235, 1.4134, 1.4048, 1.3854, 1.3343, 1.3321, 1.3195, 1.2346, 1.2113, 1.1973, 1.18, 1.1767, 1.1574, 1.1559, 1.147, 1.1434, 1.1426, 1.1356, 1.0923, 1.0863, 1.0754, 1.0725, 1.0429, 1.0361, 1.0197, 1.0182, 1.003, 0.9987, 0.9959, 0.992, 0.9819, 0.9438, 0.99, 0.9142, 0.8389, 0.8527, 0.7311, 0.6433, 0.7045, 0.651, 0.5775, 0.5656, 0.6717, 0.5354, 0.6099, 0.2888, 0.6149, 0.3998, 0.1413, 0.3313, 0.0417, -0.0252, 1.642, 1.606, 1.587, 1.5829, 1.5176, 1.4531, 1.4284, 1.4263, 1.4241, 1.3996, 1.3992, 1.3881, 1.385, 1.3765, 1.3505, 1.35, 1.3406, 1.3221, 1.3208, 1.3154, 1.3012, 1.283, 1.282, 1.2718, 1.2497, 1.2227, 1.2147, 1.1994, 1.1991, 1.1845, 1.1837, 1.0942, 1.0428, 1.0691, 0.7908, 0.8503, 0.7818, 0.4853, 0.5948, 0.7286, 0.7726, 0.6617, 0.5064, 0.4046, 0.0973, 0.4622, 0.7143, -0.0964, 0.5138, 0.2923, 0.4076, -0.2494, 0.0678, 0.1552, 1.7115, 1.6882, 1.65, 1.6387, 1.6318, 1.625, 1.6033, 1.6012, 1.5919, 1.5616, 1.5209, 1.5164, 1.4841, 1.4823, 1.4585, 1.4289, 1.4268, 1.4187, 1.4149, 1.4099, 1.4062, 1.3904, 1.378, 1.3553, 1.3487, 1.3426, 1.3186, 1.3145, 1.3136, 1.2998, 1.2955, 1.2651, 1.2568, 1.1901, 1.1096, 0.9928, 1.1969, 1.0831, 0.9766, 0.8334, 0.9955, 1.0214, 0.9409, 0.907, 0.6403, 0.7976, 0.938, 0.6308, 0.786, 0.6422, 0.8021, 0.303, 0.6206, 0.606, 1.7724, 1.7577, 1.7562, 1.7558, 1.7501, 1.7273, 1.6865, 1.6617, 1.6609, 1.6523, 1.6461, 1.6399, 1.5964, 1.5831, 1.58, 1.5705, 1.5493, 1.5346, 1.5319, 1.5174, 1.5096, 1.4927, 1.49, 1.4873, 1.4846, 1.4814, 1.4295, 1.3626, 1.362, 1.3423, 1.2934, 1.1495, 1.0875, 1.1736, 1.1603, 1.1181, 1.0831, 1.096, 0.8724, 0.8772, 1.0117, 0.4738, 1.0573, 1.1906, 0.5432, 0.5496, 1.0425, 0.7462, 0.5617, 0.3198, 0.288, 0.4727, 0.6334, -0.0155, -0.395]}, \"token.table\": {\"Topic\": [1, 2, 3, 4, 5, 1, 2, 3, 4, 5, 1, 2, 3, 5, 1, 2, 3, 4, 5, 1, 3, 4, 5, 1, 2, 3, 4, 5, 1, 2, 3, 4, 5, 1, 2, 3, 4, 5, 1, 2, 3, 4, 5, 1, 2, 3, 4, 5, 1, 2, 3, 4, 5, 1, 2, 3, 4, 5, 1, 2, 3, 4, 5, 1, 2, 3, 4, 5, 1, 2, 3, 4, 5, 1, 3, 4, 5, 1, 2, 3, 5, 1, 2, 3, 4, 5, 1, 2, 3, 4, 5, 1, 2, 3, 4, 5, 1, 2, 3, 4, 5, 2, 3, 4, 1, 2, 5, 1, 2, 3, 4, 5, 1, 4, 1, 2, 3, 4, 5, 1, 3, 4, 1, 2, 3, 4, 5, 1, 2, 3, 4, 5, 1, 2, 3, 4, 5, 4, 5, 1, 2, 4, 5, 1, 2, 3, 5, 2, 3, 4, 5, 1, 2, 3, 4, 5, 1, 2, 3, 4, 5, 1, 2, 3, 4, 5, 1, 2, 3, 4, 5, 1, 2, 3, 4, 5, 1, 2, 3, 4, 2, 3, 4, 5, 1, 2, 3, 4, 5, 1, 2, 3, 4, 5, 1, 2, 3, 4, 1, 2, 3, 4, 5, 1, 2, 3, 4, 5, 1, 2, 3, 4, 5, 1, 2, 3, 4, 5, 1, 2, 3, 4, 5, 1, 2, 3, 4, 5, 1, 2, 3, 4, 5, 1, 2, 3, 4, 5, 1, 2, 3, 5, 1, 2, 3, 4, 5, 1, 2, 3, 4, 1, 2, 3, 4, 5, 1, 2, 3, 4, 5, 2, 3, 4, 5, 1, 2, 3, 4, 1, 2, 3, 4, 5, 1, 2, 3, 4, 5, 1, 2, 3, 4, 5, 1, 2, 3, 4, 5, 1, 2, 3, 4, 5, 1, 2, 3, 4, 5, 1, 2, 3, 4, 5, 3, 5, 1, 2, 4, 1, 2, 3, 4, 5, 1, 2, 3, 4, 5, 1, 2, 3, 4, 5, 1, 4, 5, 1, 2, 3, 4, 5, 1, 2, 3, 4, 5, 1, 2, 3, 4, 5, 1, 2, 3, 4, 5, 1, 2, 3, 4, 5, 1, 2, 3, 4, 5, 1, 2, 3, 4, 5, 1, 2, 3, 4, 5, 1, 2, 3, 4, 5, 1, 2, 3, 4, 1, 2, 3, 4, 5, 1, 2, 3, 4, 5, 1, 3, 4, 5, 1, 2, 3, 4, 5, 1, 2, 3, 4, 5, 1, 2, 3, 4, 5, 2, 3, 4, 5, 1, 2, 3, 4, 5, 1, 2, 4, 5, 1, 2, 3, 4, 1, 2, 3, 4, 5, 1, 3, 4, 5, 1, 2, 3, 4, 1, 2, 3, 4, 5, 1, 2, 3, 4, 5, 1, 2, 3, 4, 5, 1, 2, 3, 4, 5, 1, 2, 3, 5, 1, 2, 3, 4, 5, 1, 2, 3, 4, 5, 1, 2, 3, 4, 5, 1, 2, 3, 4, 5, 1, 2, 4, 5, 1, 2, 3, 4, 5, 1, 2, 3, 4, 5, 1, 2, 3, 4, 5, 1, 3, 4, 5, 1, 2, 3, 4, 5, 1, 2, 3, 4, 5, 1, 2, 3, 4, 5, 1, 2, 3, 4, 5, 1, 2, 3, 4, 5, 2, 3, 4, 5, 1, 2, 3, 4, 5, 1, 2, 3, 4, 5, 1, 2, 3, 4, 5, 1, 2, 3, 4, 5, 1, 2, 3, 4, 1, 2, 3, 5, 1, 3, 4, 5, 1, 2, 3, 4, 5, 1, 2, 3, 4, 5, 3, 4, 5, 1, 2, 3, 4, 5, 1, 2, 3, 4, 5, 1, 2, 3, 5, 1, 2, 3, 4, 5, 1, 2, 3, 4, 5, 1, 2, 3, 4, 5, 1, 2, 3, 4, 5, 1, 2, 3, 4, 5, 1, 2, 3, 4, 5, 1, 2, 3, 4, 5, 1, 3, 4, 5, 1, 2, 3, 5, 1, 2, 3, 4, 5, 1, 2, 3, 4, 5, 2, 3, 5, 1, 2, 3, 4, 5, 1, 2, 3, 4, 5, 1, 3, 4, 5, 1, 2, 3, 4, 5, 1, 2, 3, 4, 1, 2, 3, 4, 5, 1, 2, 3, 4, 5, 1, 2, 3, 5, 1, 2, 3, 4, 5, 1, 2, 3, 4, 5, 1, 2, 3, 4, 5, 1, 2, 3, 4, 5, 1, 2, 3, 4, 5, 1, 2, 3, 4, 5, 1, 1, 2, 3, 4, 5, 1, 2, 3, 4, 5, 1, 2, 3, 4, 5, 1, 2, 3, 4, 1, 2, 3, 4, 5, 1, 2, 3, 4, 5, 1, 2, 3, 4, 5, 1, 2, 3, 4, 5, 1, 2, 4, 5, 1, 2, 3, 4, 5, 1, 2, 3, 4, 5, 1, 2, 3, 4, 5, 1, 2, 3, 5, 1, 2, 3, 4, 5, 1, 2, 3, 4, 5, 1, 2, 3, 4, 5, 1, 2, 3, 4, 5, 1, 2, 3, 4, 5, 1, 2, 3, 4, 5, 1, 2, 3, 4, 5, 1, 2, 3, 4, 5, 3, 4, 5, 1, 2, 3, 4, 5, 1, 2, 3, 4, 5, 1, 2, 3, 4, 5, 1, 2, 3, 4, 5, 1, 2, 3, 4, 5, 1, 2, 3, 4, 5, 1, 2, 3, 4, 5, 1, 2, 3, 5, 1, 2, 3, 4, 5, 1, 2, 3, 4, 5, 1, 2, 3, 4, 5, 1, 2, 3, 4, 5, 1, 2, 3, 4, 5, 1, 2, 4, 5, 1, 2, 3, 4, 5, 1, 2, 3, 4, 5, 1, 2, 3, 4, 5, 1, 2, 3, 4, 5, 1, 2, 3, 4, 5, 1, 2, 3, 4, 5, 2, 3, 4, 5, 1, 2, 3, 4, 5, 1, 2, 3, 4, 5, 1, 2, 3, 4, 5, 1, 2, 3, 4, 5, 1, 2, 3, 4, 5, 1, 2, 4, 5, 1, 2, 3, 4, 5, 1, 2, 3, 4, 5, 1, 2, 4, 1, 2, 3, 4, 5, 1, 2, 3, 4, 5, 1, 2, 3, 4, 5, 1, 2, 3, 4, 5, 1, 2, 3, 4, 5, 1, 2, 3, 4, 5, 1, 2, 3, 4, 5, 1, 2, 3, 4, 5, 1, 2, 3, 4, 5, 1, 2, 3, 4, 5, 1, 2, 3, 4, 5, 1, 2, 3, 4, 5, 1, 2, 3, 4, 5, 1, 2, 3, 4, 5, 1, 4, 5, 1, 2, 3, 4, 5, 1, 2, 3, 4, 5, 1, 2, 3, 4, 1, 2, 3, 4, 5, 1, 2, 3, 4, 5, 1, 2, 3, 4, 5, 1, 2, 3, 4, 5, 1, 2, 3, 4, 5, 1, 3, 5, 1, 3, 4, 5, 1, 2, 3, 4, 5, 1, 2, 3, 4, 5, 1, 2, 3, 4, 5, 1, 2, 4, 5, 1, 3, 4, 5, 1, 2, 3, 4, 5, 4, 5, 1, 2, 3, 4, 5, 1, 2, 3, 4, 5, 1, 2, 3, 4, 5, 1, 2, 3, 4, 5, 1, 2, 4, 1, 2, 3, 4, 5, 1, 2, 3, 4, 5], \"Freq\": [0.1010409724566269, 0.07772382496663607, 0.04274810373164984, 0.7189453809413837, 0.058292868724977055, 0.45807377824565676, 0.17772261341771384, 0.15269125941521894, 0.07259092660723523, 0.14017558241397146, 0.7767747221710699, 0.01618280671189729, 0.01618280671189729, 0.1780108738308702, 0.08359097315188485, 0.05224435821992803, 0.20897743287971213, 0.03134661493195682, 0.6269322986391364, 0.8508114571732938, 0.050047732774899635, 0.01668257759163321, 0.08341288795816605, 0.019651740339974393, 0.2554726244196671, 0.6878109118991037, 0.019651740339974393, 0.019651740339974393, 0.10124607778550863, 0.020249215557101727, 0.222741371128119, 0.020249215557101727, 0.6074764667130518, 0.0029589132470247575, 0.8181395128023455, 0.14498674910421314, 0.029589132470247578, 0.0029589132470247575, 0.04325263052744692, 0.6812289308072891, 0.16219736447792596, 0.03243947289558519, 0.07569210342303212, 0.24522847247298066, 0.15890805016249146, 0.14909891126357222, 0.3335107225632537, 0.11574783900724686, 0.0138926993177905, 0.21765228931205116, 0.7548366629332839, 0.009261799545193667, 0.004630899772596834, 0.10974098015187228, 0.15851474910825997, 0.6950262076285244, 0.01219344223909692, 0.02438688447819384, 0.23594615334289631, 0.062091092984972715, 0.09313663947745908, 0.14901862316393452, 0.4594740880887981, 0.021625177986934176, 0.605504983634157, 0.12975106792160504, 0.19462660188240757, 0.04325035597386835, 0.17600142275829714, 0.05028612078808489, 0.11942953687170163, 0.19485871805382898, 0.45257508709276406, 0.13681176301054582, 0.06840588150527291, 0.00977226878646756, 0.7817815029174048, 0.051652495507743666, 0.10330499101548733, 0.012913123876935917, 0.8393530520008345, 0.27889120562867664, 0.16268653661672805, 0.40284285257475516, 0.08909024624249394, 0.06972280140716916, 0.026623670658039153, 0.053247341316078306, 0.026623670658039153, 0.8253337903992137, 0.07987101197411746, 0.004768105732471801, 0.014304317197415404, 0.004768105732471801, 0.9726935694242475, 0.004768105732471801, 0.013195864601055188, 0.6524621941632843, 0.3020386786463743, 0.024925522024215354, 0.007331035889475104, 0.058587018042632805, 0.9080987796608084, 0.014646754510658201, 0.2541909448520038, 0.6778425196053435, 0.04236515747533397, 0.17982974210391656, 0.6157806320528052, 0.14713342535774993, 0.03269631674616665, 0.02179754449744443, 0.8111544298475447, 0.17744003152915042, 0.017635022701346655, 0.0035270045402693313, 0.18340423609400522, 0.0035270045402693313, 0.7935760215605995, 0.0696479057766885, 0.017411976444172125, 0.9054227750969506, 0.21818100442712113, 0.41688156203039217, 0.10129832348402053, 0.10714245753117556, 0.1577916192731858, 0.05301297138364678, 0.9078471349449511, 0.023193174980345465, 0.0033133107114779238, 0.00993993213443377, 0.12023136085401, 0.298860811265682, 0.405351445164948, 0.116796179115324, 0.061833271296348, 0.037786236157095816, 0.9068696677702995, 0.01657741841095446, 0.00828870920547723, 0.9117580126024954, 0.058020964438340615, 0.025641510410965348, 0.00854717013698845, 0.4444528471233994, 0.5299245484932839, 0.012361851129210184, 0.7169873654941906, 0.006180925564605092, 0.25959887371341384, 0.28058439269812174, 0.012753836031732805, 0.02550767206346561, 0.650445637618373, 0.02550767206346561, 0.12951651082147492, 0.025903302164294983, 0.038854953246442475, 0.6993891584359645, 0.11656485973932743, 0.06364639488151036, 0.7319335411373692, 0.03182319744075518, 0.1591159872037759, 0.01591159872037759, 0.04638597196617513, 0.8998878561437976, 0.02783158317970508, 0.018554388786470054, 0.009277194393235027, 0.5853460829474187, 0.2141088916975809, 0.10705444584879045, 0.04834716909300214, 0.04489379987207342, 0.7648319843214864, 0.08498133159127626, 0.01699626631825525, 0.11897386422778676, 0.10865369395161951, 0.6519221637097171, 0.04178988228908443, 0.20059143498760526, 0.2052761600130904, 0.06353785905167084, 0.16128841143885675, 0.05865033143231155, 0.513190400032726, 0.06688561938557654, 0.6911514003176242, 0.05202214841100397, 0.09661256133472167, 0.08918082584743539, 0.7976042994238869, 0.05091091272918427, 0.05091091272918427, 0.10182182545836854, 0.6975183973603564, 0.06643032355812918, 0.039858194134877505, 0.16607580889532295, 0.039858194134877505, 0.43095772545495, 0.021311096313706316, 0.06630118853153076, 0.329138043067242, 0.15154557378635602, 0.06790494344083292, 0.04850353102916638, 0.12610918067583257, 0.7178522592316624, 0.0388028248233331, 0.01604642187774376, 0.06418568751097505, 0.04813926563323129, 0.8665067813981632, 0.01604642187774376, 0.14387146187870326, 0.6054590687395428, 0.09291698579666252, 0.017983932734837907, 0.14087413975623028, 0.05308082448621417, 0.11374462389903037, 0.13649354867883642, 0.39052320872000423, 0.30331899706408094, 0.012552202723948549, 0.251044054478971, 0.6025057307495304, 0.03765660817184565, 0.08786541906763985, 0.12626250466603348, 0.10822500399945727, 0.06313125233301674, 0.6403312736634554, 0.06313125233301674, 0.015192813362056417, 0.12154250689645134, 0.6684837879304824, 0.19750657370673344, 0.08561969358511073, 0.3898428601534829, 0.4098815118436152, 0.1038366496670492, 0.010930173649163072, 0.026355084209906232, 0.2371957578891561, 0.6984097315625151, 0.026355084209906232, 0.7159396899587853, 0.17898492248969633, 0.05447367206208149, 0.031127812606903706, 0.02334585945517778, 0.04604245064307152, 0.5985518583599297, 0.2762547038584291, 0.06906367596460727, 0.02302122532153576, 0.009603485180759479, 0.11524182216911374, 0.009603485180759479, 0.8643136662683532, 0.0495747323327055, 0.7188336188242297, 0.1487241969981165, 0.07436209849905825, 0.07348963519403144, 0.12025576668114235, 0.18038365002171353, 0.5812362056255214, 0.04676613148711092, 0.03255329888427152, 0.5913849297309326, 0.20074534311967437, 0.10851099628090506, 0.06510659776854304, 0.052412792891031554, 0.8305411796578847, 0.03225402639448096, 0.020158766496550597, 0.06450805278896192, 0.46503938834042785, 0.06701440967351144, 0.11778290185041404, 0.23759654338790417, 0.11372142247626182, 0.38731209819615614, 0.019126523367711413, 0.040643862156386754, 0.4733814533508575, 0.08128772431277351, 0.2912690121540587, 0.007872135463623208, 0.023616406390869624, 0.6140265661626103, 0.05510494824536246, 0.4847086774946274, 0.06334261126350245, 0.030294292343414214, 0.16524159460044116, 0.2561244716306838, 0.03923042991847538, 0.9415303180434091, 0.8858869462889395, 0.03281062764033109, 0.06562125528066218, 0.730145480130209, 0.19677679606346057, 0.01553501021553636, 0.00517833673851212, 0.04660503064660908, 0.14818928509509802, 0.14818928509509802, 0.23971796118324679, 0.448926363670444, 0.013075525155449824, 0.06441876156432999, 0.0805234519554125, 0.7408157579897949, 0.0805234519554125, 0.016104690391082498, 0.035768990610124146, 0.12519146713543453, 0.8405712793379175, 0.6109876769531783, 0.21326928346478868, 0.05764034688237532, 0.03458420812942519, 0.08069648563532544, 0.5000365852106804, 0.004808044088564235, 0.004808044088564235, 0.48561245294498767, 0.004808044088564235, 0.5275640279301502, 0.007758294528384563, 0.0038791472641922817, 0.44998108264630465, 0.015516589056769127, 0.425582557509616, 0.229159838659024, 0.13640466586846667, 0.15004513245531334, 0.060018052982125335, 0.82747491102107, 0.0435513111063721, 0.010887827776593025, 0.07258551851062017, 0.0435513111063721, 0.725517904038191, 0.04267752376695241, 0.021338761883476207, 0.19204885695128587, 0.021338761883476207, 0.07142971044754177, 0.10714456567131266, 0.7142971044754177, 0.017857427611885444, 0.08928713805942722, 0.10959699928163326, 0.7358655666052518, 0.05479849964081663, 0.0469701425492714, 0.05479849964081663, 0.2761994648650185, 0.059843217387420676, 0.055239892973003704, 0.0920664882883395, 0.5201756588291182, 0.1750946862028494, 0.7003787448113976, 0.10505681172170964, 0.035018937240569877, 0.495432090136331, 0.10647444042403605, 0.045631903038872594, 0.07822611949521016, 0.27596436599699137, 0.026659842325611492, 0.01777322821707433, 0.008886614108537165, 0.7287023569000475, 0.2221653527134291, 0.02558513554167952, 0.1876243273056498, 0.06822702811114538, 0.7163837951670265, 0.28012771977822587, 0.021757492798308804, 0.21485524138329945, 0.005439373199577201, 0.4759451549630051, 0.8328653638943984, 0.09158656922550085, 0.02003456201807831, 0.04293120432445352, 0.011448321153187606, 0.8359405354111065, 0.02214412014334057, 0.016608090107505427, 0.016608090107505427, 0.11072060071670284, 0.6849156807091501, 0.03512388106200769, 0.24586716743405387, 0.03512388106200769, 0.1842188684813285, 0.3252259036151849, 0.3365974387066249, 0.06822921054864019, 0.08414935967665622, 0.12346448224646812, 0.6481885317939576, 0.06173224112323406, 0.15433060280808514, 0.008929968153786862, 0.1875293312295241, 0.7411873567643095, 0.05357980892272117, 0.6382327239108461, 0.06987949531870577, 0.181686687828635, 0.051244963233717564, 0.06056222927621167, 0.16564103829846033, 0.03011655241790188, 0.767972086656498, 0.03011655241790188, 0.9240673430020083, 0.04763233726814476, 0.009526467453628952, 0.009526467453628952, 0.2745001374683194, 0.09150004582277313, 0.1171200586531496, 0.17934008981263533, 0.3367201686278051, 0.048004547087875514, 0.011637465960697094, 0.16874325643010787, 0.017456198941045643, 0.7549806042002241, 0.06875075455098201, 0.05427691148761737, 0.6296121732563615, 0.003618460765841158, 0.24605533207719874, 0.1431451786042485, 0.028629035720849697, 0.042943553581274545, 0.07157258930212425, 0.7014113751608175, 0.013877683854772815, 0.0069388419273864075, 0.03469420963693204, 0.9436825021245515, 0.20234626021806748, 0.21920844856957308, 0.3844578944143282, 0.12815263147144274, 0.06070387806542024, 0.4375422918927759, 0.15398484092363784, 0.07511455654811602, 0.11267183482217404, 0.22158794181694227, 0.267093857888997, 0.27012901536500833, 0.2792344877930423, 0.024281259808090636, 0.16086334622860046, 0.30541475641839627, 0.26317654542436275, 0.03249093153387195, 0.3249093153387195, 0.07472914252790547, 0.1453394186073995, 0.07266970930369974, 0.04844647286913316, 0.7024738566024308, 0.17208194257998646, 0.015643812961816952, 0.015643812961816952, 0.015643812961816952, 0.7821906480908476, 0.8092259524170327, 0.05137942555028779, 0.012844856387571947, 0.08991399471300363, 0.025689712775143893, 0.611252733942338, 0.10818632459156426, 0.010818632459156426, 0.13523290573945532, 0.13523290573945532, 0.11192770296060175, 0.1399096287007522, 0.699548143503761, 0.02798192574015044, 0.8322836449932279, 0.056019091489928806, 0.07202454620133704, 0.03201090942281646, 0.008002727355704115, 0.14551219196479187, 0.5633933586329121, 0.07835271875027254, 0.16416760119104723, 0.04850406398826396, 0.20738485082762625, 0.034564141804604376, 0.09217104481227834, 0.5760690300767396, 0.09217104481227834, 0.019841071128626358, 0.039682142257252716, 0.019841071128626358, 0.7936428451450543, 0.11904642677175815, 0.00997938913041595, 0.3043713684776865, 0.6636293771726607, 0.012474236413019937, 0.00997938913041595, 0.19998395755591575, 0.7732713025495409, 0.01333226383706105, 0.01333226383706105, 0.7434748171405899, 0.06505404649980162, 0.009293435214257373, 0.08364091692831636, 0.1022277873568311, 0.04457690268171717, 0.14009883699968254, 0.7387029587255989, 0.03184064477265512, 0.04457690268171717, 0.06364927243248673, 0.03978079527030421, 0.04773695432436505, 0.015912318108121683, 0.8274405416223275, 0.7363497819777344, 0.03506427533227307, 0.19285351432750186, 0.017532137666136535, 0.02337618355484871, 0.7376605013660881, 0.07903505371779515, 0.13172508952965858, 0.026345017905931717, 0.012431663173172626, 0.024863326346345253, 0.9572380643342923, 0.012431663173172626, 0.05089001514317306, 0.10178003028634612, 0.02544500757158653, 0.8396852498623555, 0.0945685087886784, 0.01260913450515712, 0.10717764329383551, 0.7250252340465344, 0.06304567252578559, 0.05785886781540994, 0.019286289271803314, 0.012857526181202209, 0.675020124513116, 0.23143547126163977, 0.057257488140720174, 0.7634331752096023, 0.17177246442216051, 0.10058538340844553, 0.18342040503893006, 0.5561780023761106, 0.09466859614912519, 0.06508465985252357, 0.33072628292744793, 0.16009679937889199, 0.11375298903237062, 0.18326870455215266, 0.2148667570611445, 0.07272212682814438, 0.7635823316955159, 0.10908319024221656, 0.07272212682814438, 0.006113173074466068, 0.12226346148932137, 0.7733163939199577, 0.033622451909563374, 0.06418831728189373, 0.44221201828431944, 0.17746666523252294, 0.11637158375903144, 0.16873879645059559, 0.09600655660120093, 0.15396488009881612, 0.44116859874468467, 0.017765178472940322, 0.21910386783293065, 0.16580833241410967, 0.07093965674751962, 0.053204742560639715, 0.053204742560639715, 0.7271314816620761, 0.08867457093439952, 0.08713938066706259, 0.5809292044470838, 0.11618584088941677, 0.029046460222354194, 0.14523230111177096, 0.027645161693656637, 0.018430107795771093, 0.3916397906601357, 0.0691129042341416, 0.4930053835368767, 0.16271891037930045, 0.13017512830344036, 0.05325346157868014, 0.14792628216300038, 0.5059078849974613, 0.02914427019725089, 0.02914427019725089, 0.02914427019725089, 0.9326166463120285, 0.08148322069685886, 0.020370805174214714, 0.04074161034842943, 0.855573817317018, 0.019933085214652067, 0.0597992556439562, 0.1195985112879124, 0.1195985112879124, 0.6777248972981703, 0.003851072525156089, 0.8895977533110565, 0.046212870301873064, 0.046212870301873064, 0.015404290100624355, 0.03495293948011347, 0.9087764264829503, 0.05242940922017021, 0.18332944820993577, 0.5866542342717944, 0.08555374249797003, 0.09777570571196574, 0.03666588964198715, 0.19063029249949015, 0.6989777391647972, 0.03177171541658169, 0.04765757312487254, 0.03177171541658169, 0.15453047720996996, 0.0662273473757014, 0.0662273473757014, 0.7064250386741484, 0.11447922424400742, 0.420535925794313, 0.21727689499372835, 0.15186019542572413, 0.09812504935200636, 0.07272639389292515, 0.09350536357661805, 0.7896008479803303, 0.041557939367385804, 0.16672133041859555, 0.5456334450063127, 0.2121907841691216, 0.05683681718815757, 0.015156484583508685, 0.09219524835099038, 0.6177081639516356, 0.2120490712072779, 0.009219524835099038, 0.0737561986807923, 0.7294126072697058, 0.12386251821561042, 0.013762502023956714, 0.12386251821561042, 0.24383355711547822, 0.3858931077827569, 0.1993074292943909, 0.14630013426928692, 0.02756379341305406, 0.27294291284855743, 0.5825497990648315, 0.024442648911811114, 0.0855492711913389, 0.03666397336771667, 0.11420803888076682, 0.12978186236450776, 0.19207715629947145, 0.12459058786992744, 0.44125833203932635, 0.04368635772687801, 0.014562119242292672, 0.029124238484585344, 0.007281059621146336, 0.9028513930221457, 0.09298860329990052, 0.19837568703978778, 0.024796960879973472, 0.20457492725978113, 0.47734149693948935, 0.17739605771165048, 0.035479211542330094, 0.011826403847443365, 0.011826403847443365, 0.7687162500838187, 0.9896916229837025, 0.7253148724321181, 0.08703778469185418, 0.14506297448642363, 0.014506297448642362, 0.029012594897284725, 0.019434455552695427, 0.0038868911105390852, 0.22932657552180602, 0.0038868911105390852, 0.7462830932235044, 0.5377611000648821, 0.29145830614203533, 0.025998628247411604, 0.03557707023330009, 0.10809955955502719, 0.016337600975116454, 0.03267520195023291, 0.8495552507060555, 0.09802560585069872, 0.5269037479717519, 0.059537146663474795, 0.06549086132982228, 0.14884286665868698, 0.19944944132264056, 0.18334468491018613, 0.039288146766468454, 0.06548024461078075, 0.6678984950299637, 0.0261920978443123, 0.2993193132779148, 0.012736992054379353, 0.05094796821751741, 0.044579472190327735, 0.5859016345014502, 0.6497662139008952, 0.04442845907014668, 0.016660672151305005, 0.10551759029159836, 0.1777138362805867, 0.7420187424989697, 0.08729632264693762, 0.06547224198520321, 0.08729632264693762, 0.007605643770779578, 0.289014463289624, 0.6236627892039254, 0.022816931312338733, 0.05323950639545705, 0.009744537727467278, 0.6431394900128403, 0.3020806695514856, 0.029233613182401835, 0.029233613182401835, 0.06152241507652822, 0.03076120753826411, 0.18456724522958465, 0.03076120753826411, 0.7382689809183386, 0.012289159012229347, 0.012289159012229347, 0.921686925917201, 0.04915663604891739, 0.1495761416775432, 0.4055175396591172, 0.2592653122410749, 0.07977394222802305, 0.1096891705635317, 0.06478273419728019, 0.8745669116632825, 0.03239136709864009, 0.016195683549320047, 0.03239136709864009, 0.3992466302615113, 0.4022712259453106, 0.08166408346258185, 0.03629514820559193, 0.08166408346258185, 0.13306012975407852, 0.009504294982434179, 0.36116320933249885, 0.3896760942798014, 0.10771534313425404, 0.23411360343690663, 0.19744520771787308, 0.5274607691891752, 0.031027104069951482, 0.011282583298164174, 0.052554322672749204, 0.035036215115166136, 0.12262675290308148, 0.08759053778791534, 0.7182424098609058, 0.3897747719201204, 0.009663837320333563, 0.11918732695078062, 0.09663837320333563, 0.3833322137065647, 0.0428000131685096, 0.054472744032648575, 0.015563641152185307, 0.7976366090494971, 0.08949093662506552, 0.036434413175372445, 0.036434413175372445, 0.9472947425596836, 0.29008266262038185, 0.20046362864010125, 0.18631325485374117, 0.04480951699014028, 0.27829068446508176, 0.6979795581877732, 0.015863171776994846, 0.005287723925664949, 0.08989130673630413, 0.1956457852496031, 0.05139522203380829, 0.1284880550845207, 0.6167426644056995, 0.11563924957606864, 0.0899416385591645, 0.03813945752449435, 0.5148826765806738, 0.35755741429213456, 0.03813945752449435, 0.04767432190561794, 0.811696499665568, 0.02004188888063131, 0.02004188888063131, 0.05010472220157827, 0.10020944440315654, 0.5017557226763256, 0.24720647800150675, 0.034266244475456384, 0.09790355564416109, 0.11993185566409734, 0.027129763660513295, 0.05425952732102659, 0.6239845641918058, 0.027129763660513295, 0.29842740026564624, 0.1638389513031229, 0.032767790260624576, 0.06553558052124915, 0.7208913857337407, 0.10689359400235249, 0.22447654740494022, 0.09620423460211724, 0.4347006156095668, 0.13539855240297982, 0.6913893287662077, 0.010020135199510257, 0.060120811197061544, 0.2104228391897154, 0.030060405598530772, 0.01727853262482249, 0.24189945674751487, 0.6738627723680771, 0.03455706524964498, 0.03455706524964498, 0.4691440079052955, 0.16529426185264298, 0.1093859085789549, 0.1555710699789581, 0.10452431264211247, 0.6953259177836575, 0.015451687061859055, 0.03090337412371811, 0.03090337412371811, 0.21632361886602677, 0.07400223486902831, 0.04933482324601888, 0.7646897603132926, 0.09866964649203776, 0.23385077007535723, 0.0066814505735816355, 0.013362901147163271, 0.6547821562110002, 0.09354030803014289, 0.2529124843480844, 0.14591104866235638, 0.09078909694546619, 0.4669153557195404, 0.04215208072468073, 0.014577389466257768, 0.07288694733128884, 0.029154778932515536, 0.6778486101809862, 0.20408345252760876, 0.07324642386230276, 0.09417397353724641, 0.06278264902483094, 0.29298569544921105, 0.47610175510496794, 0.4470639223254178, 0.14224761164899657, 0.2264349736453415, 0.069672299583182, 0.11612049930530333, 0.0862844791755154, 0.17920622597991662, 0.6106286218574937, 0.0530981410310864, 0.0796472115466296, 0.7132381512322925, 0.050945582230878035, 0.17830953780807313, 0.050945582230878035, 0.043954704359099324, 0.13186411307729798, 0.06593205653864899, 0.7252526219251388, 0.021977352179549662, 0.11098869421855999, 0.5866545265838171, 0.14269974970957713, 0.11098869421855999, 0.04756658323652571, 0.2684033532706085, 0.25136187052326825, 0.20449779296808265, 0.01704148274734022, 0.2570423647723817, 0.08802425003341953, 0.030808487511696837, 0.18044971256851003, 0.6205709627356076, 0.07922182503007758, 0.052454878724687924, 0.22730447447364766, 0.695027143102115, 0.004371239893723994, 0.02185619946861997, 0.7655018473127008, 0.06804460865001785, 0.04536307243334523, 0.11907806513753123, 0.06298251994840488, 0.42828113564915327, 0.43667880497560724, 0.0587836852851779, 0.01679533865290797, 0.8214375473292029, 0.013922670293715304, 0.013922670293715304, 0.027845340587430607, 0.13922670293715306, 0.8582673298522339, 0.07152227748768615, 0.07152227748768615, 0.5190957316080607, 0.11367059816234905, 0.04167921932619465, 0.07578039877489937, 0.2500753159571679, 0.13051461092582645, 0.18272045529615702, 0.026102922185165287, 0.026102922185165287, 0.6264701324439669, 0.01819914570511785, 0.20019060275629635, 0.7097666824995962, 0.0363982914102357, 0.0363982914102357, 0.6351968726097431, 0.2377117130625419, 0.046762959946729556, 0.0662475265912002, 0.01558765331557652, 0.4626925732676823, 0.22870735560759964, 0.0668529193314522, 0.12139082720711057, 0.12139082720711057, 0.04945476450683149, 0.017201657219767477, 0.006450621457412804, 0.8966363825803797, 0.03010290013459308, 0.05294539595744834, 0.9341080572492672, 0.003781813996960596, 0.003781813996960596, 0.003781813996960596, 0.2855542927705653, 0.2661476903492648, 0.2938714080939798, 0.06099217903837317, 0.09148826855755976, 0.5776365075075748, 0.07815082160396601, 0.037376479897548956, 0.1529037813990639, 0.1529037813990639, 0.5078718158627619, 0.06795467958727096, 0.03218905875186519, 0.38626870502238225, 0.0035765620835405765, 0.6795287139309788, 0.08736797750541157, 0.048537765280784205, 0.1585566999172284, 0.025886808149751576, 0.0472911595476348, 0.18188907518321076, 0.08730675608794117, 0.29829808330046564, 0.38560483938840684, 0.12361359503200786, 0.5052033883916843, 0.17467138428435894, 0.11555183883426823, 0.08061756197739643, 0.19594323409240613, 0.16844242930750702, 0.11344081973770881, 0.3231344562225645, 0.1993808346905185, 0.20711919309237078, 0.6472474784136587, 0.12944949568273176, 0.09917262209611198, 0.06942083546727838, 0.02975178662883359, 0.6446220436247279, 0.14875893314416797, 0.18345996489534863, 0.42807325142248015, 0.039569796349977156, 0.2158352528180572, 0.1366956601181029, 0.029395504854712512, 0.18617153074651258, 0.7740816278407628, 0.009798501618237504, 0.09184449417778012, 0.374442937801719, 0.27788846956353985, 0.15778413102336586, 0.0965544682381791, 0.09576489657755688, 0.4555303188554057, 0.24847108301203946, 0.07505897299322026, 0.12423554150601973, 0.054595339399363604, 0.31587303509631803, 0.03509700389959089, 0.5303547255938179, 0.06239467359927269, 0.03781544045150427, 0.016206617336358975, 0.0432176462302906, 0.8697551303845983, 0.03241323467271795, 0.062050165377832235, 0.17285403212396122, 0.15069325877473544, 0.5185620963718837, 0.09750740273659352, 0.0725178676909016, 0.1450357353818032, 0.7493512994726499, 0.019060937804926206, 0.05718281341477861, 0.8958640768315317, 0.03812187560985241, 0.4882318717166309, 0.008796970661560918, 0.03958636797702413, 0.4046606504318022, 0.06157879463092642, 0.09583447498573822, 0.2331972224652963, 0.30986480245388687, 0.1309737824805089, 0.2300027399657717, 0.05270608349023125, 0.2974128996948764, 0.5421197158995215, 0.03011776199441786, 0.07905912523534689, 0.03925782847961634, 0.8244143980719432, 0.07851565695923268, 0.03925782847961634, 0.8890415786026235, 0.015875742475046847, 0.07937871237523424, 0.015875742475046847, 0.05457879289013386, 0.6549455146816063, 0.018192930963377953, 0.16373637867040158, 0.10915758578026773, 0.943462604156733, 0.03369509300559761, 0.19754480765494584, 0.00823103365228941, 0.7490240623583363, 0.00823103365228941, 0.02469310095686823, 0.20351034064575255, 0.2753375196971946, 0.37908788943816646, 0.09576957206858942, 0.04788478603429471, 0.06732822393594685, 0.21782660685159277, 0.04356532137031856, 0.4752580513125661, 0.19802418804690253, 0.14018442481802584, 0.2195340992433235, 0.3094637302586608, 0.2063091535057739, 0.12695947908047625, 0.029750624827268507, 0.08925187448180552, 0.8627681199907866, 0.1471874297356914, 0.10275348868340721, 0.13607894447262037, 0.3332545578921315, 0.280489252892544, 0.720947663276347, 0.014136228691693078, 0.014136228691693078, 0.09895360084185155, 0.15549851560862385], \"Term\": [\"academic\", \"academic\", \"academic\", \"academic\", \"academic\", \"activity\", \"activity\", \"activity\", \"activity\", \"activity\", \"africa\", \"africa\", \"africa\", \"africa\", \"age\", \"age\", \"age\", \"age\", \"age\", \"agricultural\", \"agricultural\", \"agricultural\", \"agricultural\", \"ai\", \"ai\", \"ai\", \"ai\", \"ai\", \"american\", \"american\", \"american\", \"american\", \"american\", \"analytic\", \"analytic\", \"analytic\", \"analytic\", \"analytic\", \"architecture\", \"architecture\", \"architecture\", \"architecture\", \"architecture\", \"area\", \"area\", \"area\", \"area\", \"area\", \"artificial\", \"artificial\", \"artificial\", \"artificial\", \"artificial\", \"asset\", \"asset\", \"asset\", \"asset\", \"asset\", \"association\", \"association\", \"association\", \"association\", \"association\", \"aware\", \"aware\", \"aware\", \"aware\", \"aware\", \"background\", \"background\", \"background\", \"background\", \"background\", \"bank\", \"bank\", \"bank\", \"bank\", \"banking\", \"banking\", \"banking\", \"banking\", \"benefit\", \"benefit\", \"benefit\", \"benefit\", \"benefit\", \"bibliographic\", \"bibliographic\", \"bibliographic\", \"bibliographic\", \"bibliographic\", \"bibliometric\", \"bibliometric\", \"bibliometric\", \"bibliometric\", \"bibliometric\", \"big\", \"big\", \"big\", \"big\", \"big\", \"blockchain\", \"blockchain\", \"blockchain\", \"bridge\", \"bridge\", \"bridge\", \"capability\", \"capability\", \"capability\", \"capability\", \"capability\", \"carbon\", \"carbon\", \"care\", \"care\", \"care\", \"care\", \"care\", \"career\", \"career\", \"career\", \"case\", \"case\", \"case\", \"case\", \"case\", \"chain\", \"chain\", \"chain\", \"chain\", \"chain\", \"challenge\", \"challenge\", \"challenge\", \"challenge\", \"challenge\", \"cinahl\", \"cinahl\", \"citation\", \"citation\", \"citation\", \"citation\", \"clinical\", \"clinical\", \"clinical\", \"clinical\", \"cloud\", \"cloud\", \"cloud\", \"cloud\", \"cluster\", \"cluster\", \"cluster\", \"cluster\", \"cluster\", \"co\", \"co\", \"co\", \"co\", \"co\", \"cognitive\", \"cognitive\", \"cognitive\", \"cognitive\", \"cognitive\", \"commerce\", \"commerce\", \"commerce\", \"commerce\", \"commerce\", \"company\", \"company\", \"company\", \"company\", \"company\", \"competitiveness\", \"competitiveness\", \"competitiveness\", \"competitiveness\", \"computing\", \"computing\", \"computing\", \"computing\", \"conclusion\", \"conclusion\", \"conclusion\", \"conclusion\", \"conclusion\", \"conference\", \"conference\", \"conference\", \"conference\", \"conference\", \"cooperation\", \"cooperation\", \"cooperation\", \"cooperation\", \"corporate\", \"corporate\", \"corporate\", \"corporate\", \"corporate\", \"country\", \"country\", \"country\", \"country\", \"country\", \"course\", \"course\", \"course\", \"course\", \"course\", \"curriculum\", \"curriculum\", \"curriculum\", \"curriculum\", \"curriculum\", \"customer\", \"customer\", \"customer\", \"customer\", \"customer\", \"database\", \"database\", \"database\", \"database\", \"database\", \"dataset\", \"dataset\", \"dataset\", \"dataset\", \"dataset\", \"degree\", \"degree\", \"degree\", \"degree\", \"degree\", \"device\", \"device\", \"device\", \"device\", \"digital\", \"digital\", \"digital\", \"digital\", \"digital\", \"digitalization\", \"digitalization\", \"digitalization\", \"digitalization\", \"dimension\", \"dimension\", \"dimension\", \"dimension\", \"dimension\", \"discovery\", \"discovery\", \"discovery\", \"discovery\", \"discovery\", \"disease\", \"disease\", \"disease\", \"disease\", \"disruption\", \"disruption\", \"disruption\", \"disruption\", \"document\", \"document\", \"document\", \"document\", \"document\", \"domain\", \"domain\", \"domain\", \"domain\", \"domain\", \"e\", \"e\", \"e\", \"e\", \"e\", \"economic\", \"economic\", \"economic\", \"economic\", \"economic\", \"education\", \"education\", \"education\", \"education\", \"education\", \"educational\", \"educational\", \"educational\", \"educational\", \"educational\", \"effect\", \"effect\", \"effect\", \"effect\", \"effect\", \"embase\", \"embase\", \"emission\", \"emission\", \"emission\", \"employee\", \"employee\", \"employee\", \"employee\", \"employee\", \"energy\", \"energy\", \"energy\", \"energy\", \"energy\", \"engineer\", \"engineer\", \"engineer\", \"engineer\", \"engineer\", \"english\", \"english\", \"english\", \"enterprise\", \"enterprise\", \"enterprise\", \"enterprise\", \"enterprise\", \"entrepreneurial\", \"entrepreneurial\", \"entrepreneurial\", \"entrepreneurial\", \"entrepreneurial\", \"entrepreneurship\", \"entrepreneurship\", \"entrepreneurship\", \"entrepreneurship\", \"entrepreneurship\", \"environment\", \"environment\", \"environment\", \"environment\", \"environment\", \"environmental\", \"environmental\", \"environmental\", \"environmental\", \"environmental\", \"equation\", \"equation\", \"equation\", \"equation\", \"equation\", \"equipment\", \"equipment\", \"equipment\", \"equipment\", \"equipment\", \"event\", \"event\", \"event\", \"event\", \"event\", \"evidence\", \"evidence\", \"evidence\", \"evidence\", \"evidence\", \"execution\", \"execution\", \"execution\", \"execution\", \"factor\", \"factor\", \"factor\", \"factor\", \"factor\", \"family\", \"family\", \"family\", \"family\", \"family\", \"finance\", \"finance\", \"finance\", \"finance\", \"financial\", \"financial\", \"financial\", \"financial\", \"financial\", \"firm\", \"firm\", \"firm\", \"firm\", \"firm\", \"food\", \"food\", \"food\", \"food\", \"food\", \"forecasting\", \"forecasting\", \"forecasting\", \"forecasting\", \"framework\", \"framework\", \"framework\", \"framework\", \"framework\", \"gain\", \"gain\", \"gain\", \"gain\", \"gas\", \"gas\", \"gas\", \"gas\", \"government\", \"government\", \"government\", \"government\", \"government\", \"graduate\", \"graduate\", \"graduate\", \"graduate\", \"green\", \"green\", \"green\", \"green\", \"group\", \"group\", \"group\", \"group\", \"group\", \"health\", \"health\", \"health\", \"health\", \"health\", \"healthcare\", \"healthcare\", \"healthcare\", \"healthcare\", \"healthcare\", \"home\", \"home\", \"home\", \"home\", \"home\", \"hospital\", \"hospital\", \"hospital\", \"hospital\", \"human\", \"human\", \"human\", \"human\", \"human\", \"impact\", \"impact\", \"impact\", \"impact\", \"impact\", \"implementation\", \"implementation\", \"implementation\", \"implementation\", \"implementation\", \"implication\", \"implication\", \"implication\", \"implication\", \"implication\", \"inclusion\", \"inclusion\", \"inclusion\", \"inclusion\", \"income\", \"income\", \"income\", \"income\", \"income\", \"indonesia\", \"indonesia\", \"indonesia\", \"indonesia\", \"indonesia\", \"influence\", \"influence\", \"influence\", \"influence\", \"influence\", \"influential\", \"influential\", \"influential\", \"influential\", \"innovation\", \"innovation\", \"innovation\", \"innovation\", \"innovation\", \"insight\", \"insight\", \"insight\", \"insight\", \"insight\", \"institution\", \"institution\", \"institution\", \"institution\", \"institution\", \"intellectual\", \"intellectual\", \"intellectual\", \"intellectual\", \"intellectual\", \"intelligence\", \"intelligence\", \"intelligence\", \"intelligence\", \"intelligence\", \"intelligent\", \"intelligent\", \"intelligent\", \"intelligent\", \"intention\", \"intention\", \"intention\", \"intention\", \"intention\", \"internet\", \"internet\", \"internet\", \"internet\", \"internet\", \"intervention\", \"intervention\", \"intervention\", \"intervention\", \"intervention\", \"investment\", \"investment\", \"investment\", \"investment\", \"investment\", \"iop\", \"iop\", \"iop\", \"iop\", \"iot\", \"iot\", \"iot\", \"iot\", \"january\", \"january\", \"january\", \"january\", \"job\", \"job\", \"job\", \"job\", \"job\", \"journal\", \"journal\", \"journal\", \"journal\", \"journal\", \"keyword\", \"keyword\", \"keyword\", \"learning\", \"learning\", \"learning\", \"learning\", \"learning\", \"level\", \"level\", \"level\", \"level\", \"level\", \"leverage\", \"leverage\", \"leverage\", \"leverage\", \"machine\", \"machine\", \"machine\", \"machine\", \"machine\", \"market\", \"market\", \"market\", \"market\", \"market\", \"marketing\", \"marketing\", \"marketing\", \"marketing\", \"marketing\", \"master\", \"master\", \"master\", \"master\", \"master\", \"mathematical\", \"mathematical\", \"mathematical\", \"mathematical\", \"mathematical\", \"medical\", \"medical\", \"medical\", \"medical\", \"medical\", \"medium\", \"medium\", \"medium\", \"medium\", \"medium\", \"medline\", \"medline\", \"medline\", \"medline\", \"mental\", \"mental\", \"mental\", \"mental\", \"meta\", \"meta\", \"meta\", \"meta\", \"meta\", \"mining\", \"mining\", \"mining\", \"mining\", \"mining\", \"ml\", \"ml\", \"ml\", \"modeling\", \"modeling\", \"modeling\", \"modeling\", \"modeling\", \"modelling\", \"modelling\", \"modelling\", \"modelling\", \"modelling\", \"n\", \"n\", \"n\", \"n\", \"network\", \"network\", \"network\", \"network\", \"network\", \"oil\", \"oil\", \"oil\", \"oil\", \"operation\", \"operation\", \"operation\", \"operation\", \"operation\", \"operational\", \"operational\", \"operational\", \"operational\", \"operational\", \"organisational\", \"organisational\", \"organisational\", \"organisational\", \"organization\", \"organization\", \"organization\", \"organization\", \"organization\", \"organizational\", \"organizational\", \"organizational\", \"organizational\", \"organizational\", \"outcome\", \"outcome\", \"outcome\", \"outcome\", \"outcome\", \"p\", \"p\", \"p\", \"p\", \"p\", \"pandemic\", \"pandemic\", \"pandemic\", \"pandemic\", \"pandemic\", \"panel\", \"panel\", \"panel\", \"panel\", \"panel\", \"park\", \"partner\", \"partner\", \"partner\", \"partner\", \"partner\", \"patient\", \"patient\", \"patient\", \"patient\", \"patient\", \"performance\", \"performance\", \"performance\", \"performance\", \"performance\", \"petroleum\", \"petroleum\", \"petroleum\", \"petroleum\", \"policy\", \"policy\", \"policy\", \"policy\", \"policy\", \"political\", \"political\", \"political\", \"political\", \"political\", \"population\", \"population\", \"population\", \"population\", \"population\", \"positive\", \"positive\", \"positive\", \"positive\", \"positive\", \"positively\", \"positively\", \"positively\", \"positively\", \"prediction\", \"prediction\", \"prediction\", \"prediction\", \"prediction\", \"predictive\", \"predictive\", \"predictive\", \"predictive\", \"predictive\", \"prevention\", \"prevention\", \"prevention\", \"prevention\", \"prevention\", \"privacy\", \"privacy\", \"privacy\", \"privacy\", \"problem\", \"problem\", \"problem\", \"problem\", \"problem\", \"proceeding\", \"proceeding\", \"proceeding\", \"proceeding\", \"proceeding\", \"product\", \"product\", \"product\", \"product\", \"product\", \"program\", \"program\", \"program\", \"program\", \"program\", \"project\", \"project\", \"project\", \"project\", \"project\", \"protocol\", \"protocol\", \"protocol\", \"protocol\", \"protocol\", \"public\", \"public\", \"public\", \"public\", \"public\", \"publication\", \"publication\", \"publication\", \"publication\", \"publication\", \"pubmed\", \"pubmed\", \"pubmed\", \"quality\", \"quality\", \"quality\", \"quality\", \"quality\", \"questionnaire\", \"questionnaire\", \"questionnaire\", \"questionnaire\", \"questionnaire\", \"rapid\", \"rapid\", \"rapid\", \"rapid\", \"rapid\", \"real\", \"real\", \"real\", \"real\", \"real\", \"regional\", \"regional\", \"regional\", \"regional\", \"regional\", \"relationship\", \"relationship\", \"relationship\", \"relationship\", \"relationship\", \"reliable\", \"reliable\", \"reliable\", \"reliable\", \"reliable\", \"reporting\", \"reporting\", \"reporting\", \"reporting\", \"researcher\", \"researcher\", \"researcher\", \"researcher\", \"researcher\", \"responsibility\", \"responsibility\", \"responsibility\", \"responsibility\", \"responsibility\", \"revolution\", \"revolution\", \"revolution\", \"revolution\", \"revolution\", \"role\", \"role\", \"role\", \"role\", \"role\", \"rural\", \"rural\", \"rural\", \"rural\", \"rural\", \"scholarly\", \"scholarly\", \"scholarly\", \"scholarly\", \"school\", \"school\", \"school\", \"school\", \"school\", \"scientific\", \"scientific\", \"scientific\", \"scientific\", \"scientific\", \"scopus\", \"scopus\", \"scopus\", \"scopus\", \"scopus\", \"search\", \"search\", \"search\", \"search\", \"search\", \"sector\", \"sector\", \"sector\", \"sector\", \"sector\", \"security\", \"security\", \"security\", \"security\", \"security\", \"semantic\", \"semantic\", \"semantic\", \"semantic\", \"sentiment\", \"sentiment\", \"sentiment\", \"sentiment\", \"sentiment\", \"series\", \"series\", \"series\", \"series\", \"series\", \"service\", \"service\", \"service\", \"service\", \"service\", \"skill\", \"skill\", \"skill\", \"skill\", \"skill\", \"smart\", \"smart\", \"smart\", \"smart\", \"smart\", \"sme\", \"sme\", \"sme\", \"sme\", \"solution\", \"solution\", \"solution\", \"solution\", \"solution\", \"south\", \"south\", \"south\", \"south\", \"south\", \"square\", \"square\", \"square\", \"statistical\", \"statistical\", \"statistical\", \"statistical\", \"statistical\", \"stock\", \"stock\", \"stock\", \"stock\", \"stock\", \"storage\", \"storage\", \"storage\", \"storage\", \"storage\", \"strategic\", \"strategic\", \"strategic\", \"strategic\", \"strategic\", \"strategy\", \"strategy\", \"strategy\", \"strategy\", \"strategy\", \"student\", \"student\", \"student\", \"student\", \"student\", \"supply\", \"supply\", \"supply\", \"supply\", \"supply\", \"support\", \"support\", \"support\", \"support\", \"support\", \"survey\", \"survey\", \"survey\", \"survey\", \"survey\", \"sustainability\", \"sustainability\", \"sustainability\", \"sustainability\", \"sustainability\", \"sustainable\", \"sustainable\", \"sustainable\", \"sustainable\", \"sustainable\", \"systematic\", \"systematic\", \"systematic\", \"systematic\", \"systematic\", \"technique\", \"technique\", \"technique\", \"technique\", \"technique\", \"term\", \"term\", \"term\", \"term\", \"term\", \"thematic\", \"thematic\", \"thematic\", \"theme\", \"theme\", \"theme\", \"theme\", \"theme\", \"theory\", \"theory\", \"theory\", \"theory\", \"theory\", \"thing\", \"thing\", \"thing\", \"thing\", \"time\", \"time\", \"time\", \"time\", \"time\", \"tool\", \"tool\", \"tool\", \"tool\", \"tool\", \"topic\", \"topic\", \"topic\", \"topic\", \"topic\", \"tourism\", \"tourism\", \"tourism\", \"tourism\", \"tourism\", \"trend\", \"trend\", \"trend\", \"trend\", \"trend\", \"trial\", \"trial\", \"trial\", \"undergraduate\", \"undergraduate\", \"undergraduate\", \"undergraduate\", \"university\", \"university\", \"university\", \"university\", \"university\", \"use\", \"use\", \"use\", \"use\", \"use\", \"user\", \"user\", \"user\", \"user\", \"user\", \"usually\", \"usually\", \"usually\", \"usually\", \"venture\", \"venture\", \"venture\", \"venture\", \"visual\", \"visual\", \"visual\", \"visual\", \"visual\", \"vosviewer\", \"vosviewer\", \"water\", \"water\", \"water\", \"water\", \"water\", \"way\", \"way\", \"way\", \"way\", \"way\", \"web\", \"web\", \"web\", \"web\", \"web\", \"work\", \"work\", \"work\", \"work\", \"work\", \"wos\", \"wos\", \"wos\", \"year\", \"year\", \"year\", \"year\", \"year\", \"young\", \"young\", \"young\", \"young\", \"young\"]}, \"R\": 30, \"lambda.step\": 0.01, \"plot.opts\": {\"xlab\": \"PC1\", \"ylab\": \"PC2\"}, \"topic.order\": [1, 4, 5, 3, 2]};\n",
              "\n",
              "function LDAvis_load_lib(url, callback){\n",
              "  var s = document.createElement('script');\n",
              "  s.src = url;\n",
              "  s.async = true;\n",
              "  s.onreadystatechange = s.onload = callback;\n",
              "  s.onerror = function(){console.warn(\"failed to load library \" + url);};\n",
              "  document.getElementsByTagName(\"head\")[0].appendChild(s);\n",
              "}\n",
              "\n",
              "if(typeof(LDAvis) !== \"undefined\"){\n",
              "   // already loaded: just create the visualization\n",
              "   !function(LDAvis){\n",
              "       new LDAvis(\"#\" + \"ldavis_el11841403834347458082581001119\", ldavis_el11841403834347458082581001119_data);\n",
              "   }(LDAvis);\n",
              "}else if(typeof define === \"function\" && define.amd){\n",
              "   // require.js is available: use it to load d3/LDAvis\n",
              "   require.config({paths: {d3: \"https://d3js.org/d3.v5\"}});\n",
              "   require([\"d3\"], function(d3){\n",
              "      window.d3 = d3;\n",
              "      LDAvis_load_lib(\"https://cdn.jsdelivr.net/gh/bmabey/pyLDAvis@3.3.1/pyLDAvis/js/ldavis.v3.0.0.js\", function(){\n",
              "        new LDAvis(\"#\" + \"ldavis_el11841403834347458082581001119\", ldavis_el11841403834347458082581001119_data);\n",
              "      });\n",
              "    });\n",
              "}else{\n",
              "    // require.js not available: dynamically load d3 & LDAvis\n",
              "    LDAvis_load_lib(\"https://d3js.org/d3.v5.js\", function(){\n",
              "         LDAvis_load_lib(\"https://cdn.jsdelivr.net/gh/bmabey/pyLDAvis@3.3.1/pyLDAvis/js/ldavis.v3.0.0.js\", function(){\n",
              "                 new LDAvis(\"#\" + \"ldavis_el11841403834347458082581001119\", ldavis_el11841403834347458082581001119_data);\n",
              "            })\n",
              "         });\n",
              "}\n",
              "</script>"
            ]
          },
          "metadata": {},
          "execution_count": 68
        }
      ]
    },
    {
      "cell_type": "markdown",
      "source": [
        "# EDA and dynamic effects (over time)"
      ],
      "metadata": {
        "id": "_Jcm9H7wkK_W"
      }
    },
    {
      "cell_type": "code",
      "source": [],
      "metadata": {
        "id": "vYECBHLh7oiM"
      },
      "execution_count": 68,
      "outputs": []
    },
    {
      "cell_type": "markdown",
      "source": [
        "# Sparse paper-keywords matrix"
      ],
      "metadata": {
        "id": "QFXr3boIkbh8"
      }
    },
    {
      "cell_type": "code",
      "source": [
        "data_1 = pd.read_csv(\"https://raw.githubusercontent.com/Alphambarushimana/Sustainability/main/scopuswithlabels.csv\")"
      ],
      "metadata": {
        "id": "SY3Ts_-f8YLr"
      },
      "execution_count": 69,
      "outputs": []
    },
    {
      "cell_type": "code",
      "source": [
        "data_1 = data_1[['Authors', 'Author(s) ID','Title', 'Abstract','Year', 'Source title', 'Author Keywords']]"
      ],
      "metadata": {
        "id": "t-MdzmVY9OpT"
      },
      "execution_count": 70,
      "outputs": []
    },
    {
      "cell_type": "code",
      "source": [
        "data_1.isnull().sum()"
      ],
      "metadata": {
        "id": "WxuIcjqD9OpU",
        "colab": {
          "base_uri": "https://localhost:8080/"
        },
        "outputId": "3d9e6eb0-5ada-4186-8a93-5d537d8fec4a"
      },
      "execution_count": 71,
      "outputs": [
        {
          "output_type": "execute_result",
          "data": {
            "text/plain": [
              "Authors              0\n",
              "Author(s) ID         0\n",
              "Title                0\n",
              "Abstract             0\n",
              "Year                 0\n",
              "Source title         0\n",
              "Author Keywords    284\n",
              "dtype: int64"
            ]
          },
          "metadata": {},
          "execution_count": 71
        }
      ]
    },
    {
      "cell_type": "code",
      "source": [
        "data_1.dropna(subset=['Author(s) ID'], inplace=True)"
      ],
      "metadata": {
        "id": "UxnAOkME9OpU"
      },
      "execution_count": 72,
      "outputs": []
    },
    {
      "cell_type": "code",
      "source": [
        "# prepro settings\n",
        "prepro.set_options(prepro.OPT.URL, prepro.OPT.NUMBER, prepro.OPT.RESERVED, prepro.OPT.MENTION, prepro.OPT.SMILEY)"
      ],
      "metadata": {
        "id": "FnzC6Jn99kn7"
      },
      "execution_count": 73,
      "outputs": []
    },
    {
      "cell_type": "code",
      "source": [
        "# Creating a new column.\n",
        "data_1['text'] = data_1['Author Keywords']"
      ],
      "metadata": {
        "id": "TZnjsQaXKZ_Y"
      },
      "execution_count": 74,
      "outputs": []
    },
    {
      "cell_type": "code",
      "source": [
        "data_1.info()"
      ],
      "metadata": {
        "id": "nnAtTI19M-fD",
        "colab": {
          "base_uri": "https://localhost:8080/"
        },
        "outputId": "4934a41b-fe41-4198-de63-f8dc0c776177"
      },
      "execution_count": 75,
      "outputs": [
        {
          "output_type": "stream",
          "name": "stdout",
          "text": [
            "<class 'pandas.core.frame.DataFrame'>\n",
            "Int64Index: 1634 entries, 0 to 1633\n",
            "Data columns (total 8 columns):\n",
            " #   Column           Non-Null Count  Dtype \n",
            "---  ------           --------------  ----- \n",
            " 0   Authors          1634 non-null   object\n",
            " 1   Author(s) ID     1634 non-null   object\n",
            " 2   Title            1634 non-null   object\n",
            " 3   Abstract         1634 non-null   object\n",
            " 4   Year             1634 non-null   int64 \n",
            " 5   Source title     1634 non-null   object\n",
            " 6   Author Keywords  1350 non-null   object\n",
            " 7   text             1350 non-null   object\n",
            "dtypes: int64(1), object(7)\n",
            "memory usage: 114.9+ KB\n"
          ]
        }
      ]
    },
    {
      "cell_type": "code",
      "source": [
        "data_1['text_clean'] = data_1['text'].map(lambda t: prepro.clean(t))\n",
        "data_1['text_clean'] = data_1['text_clean'].str.replace('#','')"
      ],
      "metadata": {
        "id": "3xZq5mqC9t8P",
        "colab": {
          "base_uri": "https://localhost:8080/",
          "height": 328
        },
        "outputId": "b61a14ea-c313-4015-b137-e83406c8334a"
      },
      "execution_count": 76,
      "outputs": [
        {
          "output_type": "error",
          "ename": "TypeError",
          "evalue": "ignored",
          "traceback": [
            "\u001b[0;31m---------------------------------------------------------------------------\u001b[0m",
            "\u001b[0;31mTypeError\u001b[0m                                 Traceback (most recent call last)",
            "\u001b[0;32m<ipython-input-76-d219a3b39c8d>\u001b[0m in \u001b[0;36m<module>\u001b[0;34m\u001b[0m\n\u001b[0;32m----> 1\u001b[0;31m \u001b[0mdata_1\u001b[0m\u001b[0;34m[\u001b[0m\u001b[0;34m'text_clean'\u001b[0m\u001b[0;34m]\u001b[0m \u001b[0;34m=\u001b[0m \u001b[0mdata_1\u001b[0m\u001b[0;34m[\u001b[0m\u001b[0;34m'text'\u001b[0m\u001b[0;34m]\u001b[0m\u001b[0;34m.\u001b[0m\u001b[0mmap\u001b[0m\u001b[0;34m(\u001b[0m\u001b[0;32mlambda\u001b[0m \u001b[0mt\u001b[0m\u001b[0;34m:\u001b[0m \u001b[0mprepro\u001b[0m\u001b[0;34m.\u001b[0m\u001b[0mclean\u001b[0m\u001b[0;34m(\u001b[0m\u001b[0mt\u001b[0m\u001b[0;34m)\u001b[0m\u001b[0;34m)\u001b[0m\u001b[0;34m\u001b[0m\u001b[0;34m\u001b[0m\u001b[0m\n\u001b[0m\u001b[1;32m      2\u001b[0m \u001b[0mdata_1\u001b[0m\u001b[0;34m[\u001b[0m\u001b[0;34m'text_clean'\u001b[0m\u001b[0;34m]\u001b[0m \u001b[0;34m=\u001b[0m \u001b[0mdata_1\u001b[0m\u001b[0;34m[\u001b[0m\u001b[0;34m'text_clean'\u001b[0m\u001b[0;34m]\u001b[0m\u001b[0;34m.\u001b[0m\u001b[0mstr\u001b[0m\u001b[0;34m.\u001b[0m\u001b[0mreplace\u001b[0m\u001b[0;34m(\u001b[0m\u001b[0;34m'#'\u001b[0m\u001b[0;34m,\u001b[0m\u001b[0;34m''\u001b[0m\u001b[0;34m)\u001b[0m\u001b[0;34m\u001b[0m\u001b[0;34m\u001b[0m\u001b[0m\n",
            "\u001b[0;32m/usr/local/lib/python3.7/dist-packages/pandas/core/series.py\u001b[0m in \u001b[0;36mmap\u001b[0;34m(self, arg, na_action)\u001b[0m\n\u001b[1;32m   4159\u001b[0m         \u001b[0mdtype\u001b[0m\u001b[0;34m:\u001b[0m \u001b[0mobject\u001b[0m\u001b[0;34m\u001b[0m\u001b[0;34m\u001b[0m\u001b[0m\n\u001b[1;32m   4160\u001b[0m         \"\"\"\n\u001b[0;32m-> 4161\u001b[0;31m         \u001b[0mnew_values\u001b[0m \u001b[0;34m=\u001b[0m \u001b[0msuper\u001b[0m\u001b[0;34m(\u001b[0m\u001b[0;34m)\u001b[0m\u001b[0;34m.\u001b[0m\u001b[0m_map_values\u001b[0m\u001b[0;34m(\u001b[0m\u001b[0marg\u001b[0m\u001b[0;34m,\u001b[0m \u001b[0mna_action\u001b[0m\u001b[0;34m=\u001b[0m\u001b[0mna_action\u001b[0m\u001b[0;34m)\u001b[0m\u001b[0;34m\u001b[0m\u001b[0;34m\u001b[0m\u001b[0m\n\u001b[0m\u001b[1;32m   4162\u001b[0m         return self._constructor(new_values, index=self.index).__finalize__(\n\u001b[1;32m   4163\u001b[0m             \u001b[0mself\u001b[0m\u001b[0;34m,\u001b[0m \u001b[0mmethod\u001b[0m\u001b[0;34m=\u001b[0m\u001b[0;34m\"map\"\u001b[0m\u001b[0;34m\u001b[0m\u001b[0;34m\u001b[0m\u001b[0m\n",
            "\u001b[0;32m/usr/local/lib/python3.7/dist-packages/pandas/core/base.py\u001b[0m in \u001b[0;36m_map_values\u001b[0;34m(self, mapper, na_action)\u001b[0m\n\u001b[1;32m    868\u001b[0m \u001b[0;34m\u001b[0m\u001b[0m\n\u001b[1;32m    869\u001b[0m         \u001b[0;31m# mapper is a function\u001b[0m\u001b[0;34m\u001b[0m\u001b[0;34m\u001b[0m\u001b[0;34m\u001b[0m\u001b[0m\n\u001b[0;32m--> 870\u001b[0;31m         \u001b[0mnew_values\u001b[0m \u001b[0;34m=\u001b[0m \u001b[0mmap_f\u001b[0m\u001b[0;34m(\u001b[0m\u001b[0mvalues\u001b[0m\u001b[0;34m,\u001b[0m \u001b[0mmapper\u001b[0m\u001b[0;34m)\u001b[0m\u001b[0;34m\u001b[0m\u001b[0;34m\u001b[0m\u001b[0m\n\u001b[0m\u001b[1;32m    871\u001b[0m \u001b[0;34m\u001b[0m\u001b[0m\n\u001b[1;32m    872\u001b[0m         \u001b[0;32mreturn\u001b[0m \u001b[0mnew_values\u001b[0m\u001b[0;34m\u001b[0m\u001b[0;34m\u001b[0m\u001b[0m\n",
            "\u001b[0;32m/usr/local/lib/python3.7/dist-packages/pandas/_libs/lib.pyx\u001b[0m in \u001b[0;36mpandas._libs.lib.map_infer\u001b[0;34m()\u001b[0m\n",
            "\u001b[0;32m<ipython-input-76-d219a3b39c8d>\u001b[0m in \u001b[0;36m<lambda>\u001b[0;34m(t)\u001b[0m\n\u001b[0;32m----> 1\u001b[0;31m \u001b[0mdata_1\u001b[0m\u001b[0;34m[\u001b[0m\u001b[0;34m'text_clean'\u001b[0m\u001b[0;34m]\u001b[0m \u001b[0;34m=\u001b[0m \u001b[0mdata_1\u001b[0m\u001b[0;34m[\u001b[0m\u001b[0;34m'text'\u001b[0m\u001b[0;34m]\u001b[0m\u001b[0;34m.\u001b[0m\u001b[0mmap\u001b[0m\u001b[0;34m(\u001b[0m\u001b[0;32mlambda\u001b[0m \u001b[0mt\u001b[0m\u001b[0;34m:\u001b[0m \u001b[0mprepro\u001b[0m\u001b[0;34m.\u001b[0m\u001b[0mclean\u001b[0m\u001b[0;34m(\u001b[0m\u001b[0mt\u001b[0m\u001b[0;34m)\u001b[0m\u001b[0;34m)\u001b[0m\u001b[0;34m\u001b[0m\u001b[0;34m\u001b[0m\u001b[0m\n\u001b[0m\u001b[1;32m      2\u001b[0m \u001b[0mdata_1\u001b[0m\u001b[0;34m[\u001b[0m\u001b[0;34m'text_clean'\u001b[0m\u001b[0;34m]\u001b[0m \u001b[0;34m=\u001b[0m \u001b[0mdata_1\u001b[0m\u001b[0;34m[\u001b[0m\u001b[0;34m'text_clean'\u001b[0m\u001b[0;34m]\u001b[0m\u001b[0;34m.\u001b[0m\u001b[0mstr\u001b[0m\u001b[0;34m.\u001b[0m\u001b[0mreplace\u001b[0m\u001b[0;34m(\u001b[0m\u001b[0;34m'#'\u001b[0m\u001b[0;34m,\u001b[0m\u001b[0;34m''\u001b[0m\u001b[0;34m)\u001b[0m\u001b[0;34m\u001b[0m\u001b[0;34m\u001b[0m\u001b[0m\n",
            "\u001b[0;32m/usr/local/lib/python3.7/dist-packages/preprocessor/api.py\u001b[0m in \u001b[0;36mclean\u001b[0;34m(tweet_string)\u001b[0m\n\u001b[1;32m     28\u001b[0m         \u001b[0mPreprocessor\u001b[0m \u001b[0;32mis\u001b[0m\u001b[0;34m\u001b[0m\u001b[0;34m\u001b[0m\u001b[0m\n\u001b[1;32m     29\u001b[0m     \"\"\"\n\u001b[0;32m---> 30\u001b[0;31m     \u001b[0mcleaned_tweet_string\u001b[0m \u001b[0;34m=\u001b[0m \u001b[0mpreprocessor\u001b[0m\u001b[0;34m.\u001b[0m\u001b[0mclean\u001b[0m\u001b[0;34m(\u001b[0m\u001b[0mtweet_string\u001b[0m\u001b[0;34m,\u001b[0m \u001b[0mFunctions\u001b[0m\u001b[0;34m.\u001b[0m\u001b[0mCLEAN\u001b[0m\u001b[0;34m)\u001b[0m\u001b[0;34m\u001b[0m\u001b[0;34m\u001b[0m\u001b[0m\n\u001b[0m\u001b[1;32m     31\u001b[0m     \u001b[0;32mreturn\u001b[0m \u001b[0mcleaned_tweet_string\u001b[0m\u001b[0;34m\u001b[0m\u001b[0;34m\u001b[0m\u001b[0m\n\u001b[1;32m     32\u001b[0m \u001b[0;34m\u001b[0m\u001b[0m\n",
            "\u001b[0;32m/usr/local/lib/python3.7/dist-packages/preprocessor/preprocess.py\u001b[0m in \u001b[0;36mclean\u001b[0;34m(self, tweet_string, repl)\u001b[0m\n\u001b[1;32m     27\u001b[0m \u001b[0;34m\u001b[0m\u001b[0m\n\u001b[1;32m     28\u001b[0m             \u001b[0;32mif\u001b[0m \u001b[0mrepl\u001b[0m \u001b[0;34m==\u001b[0m \u001b[0mFunctions\u001b[0m\u001b[0;34m.\u001b[0m\u001b[0mCLEAN\u001b[0m\u001b[0;34m:\u001b[0m\u001b[0;34m\u001b[0m\u001b[0;34m\u001b[0m\u001b[0m\n\u001b[0;32m---> 29\u001b[0;31m                 \u001b[0mtweet_string\u001b[0m \u001b[0;34m=\u001b[0m \u001b[0mmethod_to_call\u001b[0m\u001b[0;34m(\u001b[0m\u001b[0mtweet_string\u001b[0m\u001b[0;34m,\u001b[0m \u001b[0;34m''\u001b[0m\u001b[0;34m)\u001b[0m\u001b[0;34m\u001b[0m\u001b[0;34m\u001b[0m\u001b[0m\n\u001b[0m\u001b[1;32m     30\u001b[0m             \u001b[0;32melse\u001b[0m\u001b[0;34m:\u001b[0m\u001b[0;34m\u001b[0m\u001b[0;34m\u001b[0m\u001b[0m\n\u001b[1;32m     31\u001b[0m                 \u001b[0mtweet_string\u001b[0m \u001b[0;34m=\u001b[0m \u001b[0mmethod_to_call\u001b[0m\u001b[0;34m(\u001b[0m\u001b[0mtweet_string\u001b[0m\u001b[0;34m,\u001b[0m \u001b[0mtoken\u001b[0m\u001b[0;34m)\u001b[0m\u001b[0;34m\u001b[0m\u001b[0;34m\u001b[0m\u001b[0m\n",
            "\u001b[0;32m/usr/local/lib/python3.7/dist-packages/preprocessor/preprocess.py\u001b[0m in \u001b[0;36mpreprocess_mentions\u001b[0;34m(self, tweet_string, repl)\u001b[0m\n\u001b[1;32m     41\u001b[0m \u001b[0;34m\u001b[0m\u001b[0m\n\u001b[1;32m     42\u001b[0m     \u001b[0;32mdef\u001b[0m \u001b[0mpreprocess_mentions\u001b[0m\u001b[0;34m(\u001b[0m\u001b[0mself\u001b[0m\u001b[0;34m,\u001b[0m \u001b[0mtweet_string\u001b[0m\u001b[0;34m,\u001b[0m \u001b[0mrepl\u001b[0m\u001b[0;34m)\u001b[0m\u001b[0;34m:\u001b[0m\u001b[0;34m\u001b[0m\u001b[0;34m\u001b[0m\u001b[0m\n\u001b[0;32m---> 43\u001b[0;31m         \u001b[0;32mreturn\u001b[0m \u001b[0mPatterns\u001b[0m\u001b[0;34m.\u001b[0m\u001b[0mMENTION_PATTERN\u001b[0m\u001b[0;34m.\u001b[0m\u001b[0msub\u001b[0m\u001b[0;34m(\u001b[0m\u001b[0mrepl\u001b[0m\u001b[0;34m,\u001b[0m \u001b[0mtweet_string\u001b[0m\u001b[0;34m)\u001b[0m\u001b[0;34m\u001b[0m\u001b[0;34m\u001b[0m\u001b[0m\n\u001b[0m\u001b[1;32m     44\u001b[0m \u001b[0;34m\u001b[0m\u001b[0m\n\u001b[1;32m     45\u001b[0m     \u001b[0;32mdef\u001b[0m \u001b[0mpreprocess_reserved_words\u001b[0m\u001b[0;34m(\u001b[0m\u001b[0mself\u001b[0m\u001b[0;34m,\u001b[0m \u001b[0mtweet_string\u001b[0m\u001b[0;34m,\u001b[0m \u001b[0mrepl\u001b[0m\u001b[0;34m)\u001b[0m\u001b[0;34m:\u001b[0m\u001b[0;34m\u001b[0m\u001b[0;34m\u001b[0m\u001b[0m\n",
            "\u001b[0;31mTypeError\u001b[0m: expected string or bytes-like object"
          ]
        }
      ]
    },
    {
      "cell_type": "code",
      "source": [
        "# run progress bar and clean up using spacy but without some heavy parts of the pipeline\n",
        "\n",
        "clean_text = []\n",
        "\n",
        "pbar = tqdm.tqdm(total=len(data_1['text_clean']),position=0, leave=True)\n",
        "\n",
        "for text in nlp.pipe(data_1['text_clean'], disable=[\"tagger\", \"parser\", \"ner\"]):\n",
        "\n",
        "  txt = [token.lemma_.lower() for token in text \n",
        "         if token.is_alpha \n",
        "         and not token.is_stop # stop words such as: and, like... to reduce diversity and normlize vocabulary.\n",
        "         and not token.is_punct] # \n",
        "\n",
        "  clean_text.append(\" \".join(txt))\n",
        "\n",
        "  pbar.update(1)"
      ],
      "metadata": {
        "id": "aUhpOPr9OasD"
      },
      "execution_count": null,
      "outputs": []
    },
    {
      "cell_type": "code",
      "source": [
        "# write everything into one function that can be re-used later\n",
        "def text_prepro(texts):\n",
        "  \"\"\"\n",
        "  takes in a pandas series (1 column of a DF)\n",
        "  removes twitter stuff\n",
        "  lowercases, normalizes text\n",
        "  \"\"\"\n",
        "  texts_clean = texts.map(lambda t: prepro.clean(t))\n",
        "  texts_clean = texts_clean.str.replace('#','')\n",
        "\n",
        "  clean_container = []\n",
        "\n",
        "  pbar = tqdm.tqdm(total=len(texts_clean),position=0, leave=True)\n",
        "\n",
        "  for text in nlp.pipe(texts_clean, disable=[\"tagger\", \"parser\", \"ner\"]):\n",
        "\n",
        "    txt = [token.lemma_.lower() for token in text \n",
        "          if token.is_alpha \n",
        "          and not token.is_stop \n",
        "          and not token.is_punct]\n",
        "\n",
        "    clean_container.append(\" \".join(txt))\n",
        "    pbar.update(1)\n",
        "  \n",
        "  return clean_container"
      ],
      "metadata": {
        "id": "qv7azlPDOh0c"
      },
      "execution_count": null,
      "outputs": []
    },
    {
      "cell_type": "code",
      "source": [
        "# apply all prepro-pipeline to texts\n",
        "data_1['text_clean'] = text_prepro(data_1['text'])"
      ],
      "metadata": {
        "id": "0dIC9eOwO5mn"
      },
      "execution_count": null,
      "outputs": []
    },
    {
      "cell_type": "code",
      "source": [
        "data_1"
      ],
      "metadata": {
        "id": "zTiqGZ0nPIJx"
      },
      "execution_count": null,
      "outputs": []
    },
    {
      "cell_type": "code",
      "source": [],
      "metadata": {
        "id": "SOQPUiBEPdRF"
      },
      "execution_count": null,
      "outputs": []
    },
    {
      "cell_type": "markdown",
      "source": [
        "-----------------------------------------------------------------------"
      ],
      "metadata": {
        "id": "9wH8k-i90M0r"
      }
    },
    {
      "cell_type": "code",
      "source": [],
      "metadata": {
        "id": "aYgTQswB86UY"
      },
      "execution_count": null,
      "outputs": []
    },
    {
      "cell_type": "code",
      "source": [
        "# load models and utility\n",
        "from gensim.models import LsiModel, TfidfModel\n",
        "from gensim.matutils import corpus2dense"
      ],
      "metadata": {
        "id": "Jz3MHohjtUu5"
      },
      "execution_count": null,
      "outputs": []
    },
    {
      "cell_type": "code",
      "source": [
        "# fit tfidf weights\n",
        "tfidf = TfidfModel(corpus)"
      ],
      "metadata": {
        "id": "PpQYLPNHtWzi"
      },
      "execution_count": null,
      "outputs": []
    },
    {
      "cell_type": "code",
      "source": [
        "# apply tfidf to data\n",
        "corpus_tfidf = tfidf[corpus]"
      ],
      "metadata": {
        "id": "I80ORgYDtadZ"
      },
      "execution_count": null,
      "outputs": []
    },
    {
      "cell_type": "code",
      "source": [
        "corpus[2]"
      ],
      "metadata": {
        "id": "clH5A5getcy3"
      },
      "execution_count": null,
      "outputs": []
    },
    {
      "cell_type": "code",
      "source": [
        "corpus_tfidf[2]"
      ],
      "metadata": {
        "id": "XhG9KttgthMS"
      },
      "execution_count": null,
      "outputs": []
    },
    {
      "cell_type": "code",
      "source": [
        "data['tokens'].iloc[2]"
      ],
      "metadata": {
        "id": "iQ9EP2GAtjV6"
      },
      "execution_count": null,
      "outputs": []
    },
    {
      "cell_type": "code",
      "source": [
        "# train LSI model\n",
        "lsi = LsiModel(corpus_tfidf, num_topics=10, id2word=dictionary)"
      ],
      "metadata": {
        "id": "hyrmLwB6tqSP"
      },
      "execution_count": null,
      "outputs": []
    },
    {
      "cell_type": "code",
      "source": [
        "lsi.print_topics()"
      ],
      "metadata": {
        "id": "MnShaU8_ttOL"
      },
      "execution_count": null,
      "outputs": []
    },
    {
      "cell_type": "code",
      "source": [
        "# apply lsi (that's equivalent to SVD fit/transform in sklearn)\n",
        "corpus_lsi = lsi[corpus_tfidf]"
      ],
      "metadata": {
        "id": "Iiyv3pOZtvUS"
      },
      "execution_count": null,
      "outputs": []
    },
    {
      "cell_type": "code",
      "source": [
        "corpus_lsi[0]"
      ],
      "metadata": {
        "id": "cfZ6D6e1t2HN"
      },
      "execution_count": null,
      "outputs": []
    },
    {
      "cell_type": "code",
      "source": [
        "# turning it back into a matrix\n",
        "lsi_matrix = corpus2dense(corpus_lsi, num_terms = 10)"
      ],
      "metadata": {
        "id": "5p4MKC1bt35w"
      },
      "execution_count": null,
      "outputs": []
    },
    {
      "cell_type": "code",
      "source": [
        "# getting the top topic-index per doc.\n",
        "np.argmax(lsi_matrix.T[0])"
      ],
      "metadata": {
        "id": "YaMKvDhmt6ho"
      },
      "execution_count": null,
      "outputs": []
    },
    {
      "cell_type": "code",
      "source": [],
      "metadata": {
        "id": "BzTt_H2RbKta"
      },
      "execution_count": null,
      "outputs": []
    },
    {
      "cell_type": "code",
      "source": [
        "ab = AbstractRetrieval(\"2-s2.0-85068268027\", view='FULL')"
      ],
      "metadata": {
        "id": "byfhw5fxnCDW"
      },
      "execution_count": null,
      "outputs": []
    }
  ]
}