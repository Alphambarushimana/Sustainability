{
 "cells": [
  {
   "cell_type": "code",
   "execution_count": 3,
   "id": "3d5ad371",
   "metadata": {},
   "outputs": [
    {
     "name": "stdout",
     "output_type": "stream",
     "text": [
      "Requirement already satisfied: pybliometrics in c:\\users\\jakob dransfeldt\\anaconda3\\lib\\site-packages (3.4.0)\n",
      "Requirement already satisfied: tqdm in c:\\users\\jakob dransfeldt\\anaconda3\\lib\\site-packages (from pybliometrics) (4.64.0)\n",
      "Requirement already satisfied: simplejson in c:\\users\\jakob dransfeldt\\anaconda3\\lib\\site-packages (from pybliometrics) (3.17.6)\n",
      "Requirement already satisfied: pbr in c:\\users\\jakob dransfeldt\\anaconda3\\lib\\site-packages (from pybliometrics) (5.11.0)\n",
      "Requirement already satisfied: requests in c:\\users\\jakob dransfeldt\\anaconda3\\lib\\site-packages (from pybliometrics) (2.27.1)\n",
      "Requirement already satisfied: idna<4,>=2.5 in c:\\users\\jakob dransfeldt\\anaconda3\\lib\\site-packages (from requests->pybliometrics) (3.3)\n",
      "Requirement already satisfied: certifi>=2017.4.17 in c:\\users\\jakob dransfeldt\\anaconda3\\lib\\site-packages (from requests->pybliometrics) (2021.10.8)\n",
      "Requirement already satisfied: charset-normalizer~=2.0.0 in c:\\users\\jakob dransfeldt\\anaconda3\\lib\\site-packages (from requests->pybliometrics) (2.0.4)\n",
      "Requirement already satisfied: urllib3<1.27,>=1.21.1 in c:\\users\\jakob dransfeldt\\anaconda3\\lib\\site-packages (from requests->pybliometrics) (1.26.9)\n",
      "Requirement already satisfied: colorama in c:\\users\\jakob dransfeldt\\anaconda3\\lib\\site-packages (from tqdm->pybliometrics) (0.4.4)\n"
     ]
    }
   ],
   "source": [
    "!pip install pybliometrics"
   ]
  },
  {
   "cell_type": "code",
   "execution_count": 5,
   "id": "3b9a7e05",
   "metadata": {},
   "outputs": [],
   "source": [
    "from pybliometrics.scopus import AbstractRetrieval\n",
    "\n",
    "ab = AbstractRetrieval(\"2-s2.0-85068268027\", view='FULL')"
   ]
  },
  {
   "cell_type": "code",
   "execution_count": 14,
   "id": "60a31b82",
   "metadata": {},
   "outputs": [],
   "source": [
    "import pandas as pd"
   ]
  },
  {
   "cell_type": "code",
   "execution_count": 17,
   "id": "b19e1e48",
   "metadata": {},
   "outputs": [],
   "source": [
    "data = pd.read_csv(\"scopuswithlabels.csv\")"
   ]
  },
  {
   "cell_type": "code",
   "execution_count": 18,
   "id": "edfbe9e4",
   "metadata": {},
   "outputs": [
    {
     "data": {
      "text/plain": [
       "'Neuroscience (all)'"
      ]
     },
     "execution_count": 18,
     "metadata": {},
     "output_type": "execute_result"
    }
   ],
   "source": [
    "ab.subject_areas[0][0]"
   ]
  },
  {
   "cell_type": "code",
   "execution_count": 19,
   "id": "27c649b6",
   "metadata": {},
   "outputs": [],
   "source": [
    "ab = AbstractRetrieval(\"2-s2.0-85140065004\", view='FULL')"
   ]
  },
  {
   "cell_type": "code",
   "execution_count": 20,
   "id": "05a19d23",
   "metadata": {},
   "outputs": [
    {
     "data": {
      "text/plain": [
       "'Neuroscience (all)'"
      ]
     },
     "execution_count": 20,
     "metadata": {},
     "output_type": "execute_result"
    }
   ],
   "source": [
    "ab.subject_areas[0][0]"
   ]
  },
  {
   "cell_type": "code",
   "execution_count": 23,
   "id": "dcea0643",
   "metadata": {},
   "outputs": [],
   "source": [
    "list_eid = []\n",
    "for itm in range(len(data)):\n",
    "    ab = AbstractRetrieval(data['EID'][itm], view='FULL')\n",
    "    list_eid.append(ab.subject_areas[0][0])"
   ]
  },
  {
   "cell_type": "code",
   "execution_count": 24,
   "id": "ef282b2d",
   "metadata": {},
   "outputs": [],
   "source": [
    "data['label'] = list_eid"
   ]
  },
  {
   "cell_type": "code",
   "execution_count": null,
   "id": "e4cc026c",
   "metadata": {},
   "outputs": [],
   "source": [
    "print(data)"
   ]
  },
  {
   "cell_type": "code",
   "execution_count": null,
   "id": "7070914c",
   "metadata": {},
   "outputs": [],
   "source": []
  }
 ],
 "metadata": {
  "kernelspec": {
   "display_name": "Python 3 (ipykernel)",
   "language": "python",
   "name": "python3"
  },
  "language_info": {
   "codemirror_mode": {
    "name": "ipython",
    "version": 3
   },
   "file_extension": ".py",
   "mimetype": "text/x-python",
   "name": "python",
   "nbconvert_exporter": "python",
   "pygments_lexer": "ipython3",
   "version": "3.9.12"
  }
 },
 "nbformat": 4,
 "nbformat_minor": 5
}
